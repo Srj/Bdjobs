{
 "cells": [
  {
   "cell_type": "code",
   "execution_count": 5,
   "id": "bb37c050",
   "metadata": {
    "ExecuteTime": {
     "end_time": "2022-01-15T13:03:24.452241Z",
     "start_time": "2022-01-15T13:03:24.439908Z"
    },
    "tags": [
     "#A"
    ]
   },
   "outputs": [],
   "source": [
    "import pandas as pd \n",
    "import numpy as np\n",
    "import seaborn as sns\n",
    "import os\n",
    "import matplotlib.pyplot as plt\n",
    "import spacy\n",
    "from tqdm import tqdm\n",
    "from sklearn.decomposition import PCA\n",
    "from sklearn.manifold import TSNE\n",
    "from sklearn.preprocessing import LabelEncoder\n",
    "import colorcet\n",
    "plt.style.use('fivethirtyeight')\n",
    "plt.rcParams['figure.figsize'] = (12,12)"
   ]
  },
  {
   "cell_type": "code",
   "execution_count": 6,
   "id": "c6132b40",
   "metadata": {
    "ExecuteTime": {
     "end_time": "2022-01-15T13:03:24.463524Z",
     "start_time": "2022-01-15T13:03:24.457792Z"
    },
    "tags": [
     "#B",
     "=>A"
    ]
   },
   "outputs": [],
   "source": [
    "GRAPH = 'Results/Graphs'\n",
    "TABLE = 'Results/Tables'\n",
    "DATA = '../data/'"
   ]
  },
  {
   "cell_type": "code",
   "execution_count": null,
   "id": "13345efe",
   "metadata": {},
   "outputs": [],
   "source": [
    "df = pd.read_csv(os.path.join(DATA,'Dataset_v4.csv'))"
   ]
  },
  {
   "cell_type": "code",
   "execution_count": null,
   "id": "3c562089",
   "metadata": {},
   "outputs": [],
   "source": [
    "df['TitleCode'] = LabelEncoder().fit_transform(df['ONET Title'])"
   ]
  },
  {
   "cell_type": "code",
   "execution_count": null,
   "id": "0ea0248c",
   "metadata": {},
   "outputs": [],
   "source": [
    "nlp = spacy.load(\"en_core_web_lg\")"
   ]
  },
  {
   "cell_type": "code",
   "execution_count": null,
   "id": "9bf115d8",
   "metadata": {},
   "outputs": [],
   "source": [
    "vector_list = []\n",
    "for context in tqdm((df['Job_Context'] + df['Job_Responsibility']).values):\n",
    "    vector = nlp(str(context)).vector\n",
    "    vector_list.append(vector)"
   ]
  },
  {
   "cell_type": "code",
   "execution_count": null,
   "id": "e04918e8",
   "metadata": {},
   "outputs": [],
   "source": [
    "with open('../data/vector.npy','rb') as f:\n",
    "    vector_list = np.load(f)"
   ]
  },
  {
   "cell_type": "code",
   "execution_count": null,
   "id": "d8026914",
   "metadata": {},
   "outputs": [],
   "source": [
    "vector_list.shape"
   ]
  },
  {
   "cell_type": "code",
   "execution_count": null,
   "id": "0a784e89",
   "metadata": {},
   "outputs": [],
   "source": [
    "pca = PCA(n_components=2)\n",
    "pca.fit(vector_list)\n",
    "reduced = pca.transform(vector_list)"
   ]
  },
  {
   "cell_type": "code",
   "execution_count": null,
   "id": "039f31e3",
   "metadata": {
    "scrolled": true
   },
   "outputs": [],
   "source": [
    "tsne = TSNE(3)\n",
    "reduced = tsne.fit_transform(vector_list)"
   ]
  },
  {
   "cell_type": "code",
   "execution_count": null,
   "id": "e55d1594",
   "metadata": {},
   "outputs": [],
   "source": [
    "colors = kmean(vector_list,5)"
   ]
  },
  {
   "cell_type": "code",
   "execution_count": null,
   "id": "a72cc67f",
   "metadata": {},
   "outputs": [],
   "source": [
    "colorcet.fire"
   ]
  },
  {
   "cell_type": "code",
   "execution_count": null,
   "id": "b2b6dcc1",
   "metadata": {},
   "outputs": [],
   "source": [
    "fig,ax = plt.subplots()\n",
    "ax.scatter(reduced[:,0],reduced[:,1],c=colors,cmap=colorcet.cm.fire)"
   ]
  },
  {
   "cell_type": "code",
   "execution_count": null,
   "id": "749b8682",
   "metadata": {},
   "outputs": [],
   "source": [
    "def kmean(data,n,seed=0):\n",
    "    from sklearn.cluster import KMeans\n",
    "    kmeans = KMeans(n_clusters=n, init='k-means++', max_iter=300, n_init=100, random_state=seed)\n",
    "    pred_y = kmeans.fit_predict(data)\n",
    "    return pred_y"
   ]
  },
  {
   "cell_type": "code",
   "execution_count": null,
   "id": "09d795ac",
   "metadata": {},
   "outputs": [],
   "source": [
    "def get_elbow(X,k):\n",
    "    from sklearn.cluster import KMeans\n",
    "    wcss = []\n",
    "    for i in tqdm(range(1, k+1)):\n",
    "        kmeans = KMeans(n_clusters=i, init='k-means++', max_iter=300, n_init=10, random_state=0)\n",
    "        kmeans.fit(X)\n",
    "        wcss.append(kmeans.inertia_)\n",
    "    plt.plot(range(1, k+1), wcss)\n",
    "    plt.title('Elbow Method')\n",
    "    plt.xlabel('Number of clusters')\n",
    "    plt.ylabel('WCSS')\n",
    "    plt.show()\n",
    "    "
   ]
  },
  {
   "cell_type": "code",
   "execution_count": null,
   "id": "61efecc7",
   "metadata": {},
   "outputs": [],
   "source": [
    "get_elbow(vector_list,50)"
   ]
  },
  {
   "cell_type": "code",
   "execution_count": null,
   "id": "cb2978de",
   "metadata": {},
   "outputs": [],
   "source": [
    "df['Cluster'] = kmean(vector_list,5)"
   ]
  },
  {
   "cell_type": "code",
   "execution_count": null,
   "id": "a053c4f6",
   "metadata": {},
   "outputs": [],
   "source": [
    "df.groupby(['Cluster'])['JobTitle'].value_counts().to_csv('Test.csv')"
   ]
  },
  {
   "cell_type": "code",
   "execution_count": null,
   "id": "2b6a69a4",
   "metadata": {},
   "outputs": [],
   "source": []
  }
 ],
 "metadata": {
  "celltoolbar": "Tags",
  "kernelspec": {
   "display_name": "Python 3 (ipykernel)",
   "language": "python",
   "name": "python3"
  },
  "language_info": {
   "codemirror_mode": {
    "name": "ipython",
    "version": 3
   },
   "file_extension": ".py",
   "mimetype": "text/x-python",
   "name": "python",
   "nbconvert_exporter": "python",
   "pygments_lexer": "ipython3",
   "version": "3.8.10"
  },
  "toc": {
   "base_numbering": 1,
   "nav_menu": {},
   "number_sections": true,
   "sideBar": true,
   "skip_h1_title": false,
   "title_cell": "Table of Contents",
   "title_sidebar": "Contents",
   "toc_cell": false,
   "toc_position": {},
   "toc_section_display": true,
   "toc_window_display": false
  },
  "varInspector": {
   "cols": {
    "lenName": 16,
    "lenType": 16,
    "lenVar": 40
   },
   "kernels_config": {
    "python": {
     "delete_cmd_postfix": "",
     "delete_cmd_prefix": "del ",
     "library": "var_list.py",
     "varRefreshCmd": "print(var_dic_list())"
    },
    "r": {
     "delete_cmd_postfix": ") ",
     "delete_cmd_prefix": "rm(",
     "library": "var_list.r",
     "varRefreshCmd": "cat(var_dic_list()) "
    }
   },
   "types_to_exclude": [
    "module",
    "function",
    "builtin_function_or_method",
    "instance",
    "_Feature"
   ],
   "window_display": false
  }
 },
 "nbformat": 4,
 "nbformat_minor": 5
}
