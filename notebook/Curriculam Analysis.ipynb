{
 "cells": [
  {
   "cell_type": "code",
   "execution_count": 1,
   "id": "f2d94339",
   "metadata": {
    "ExecuteTime": {
     "end_time": "2022-01-27T06:29:09.827541Z",
     "start_time": "2022-01-27T06:29:08.831467Z"
    }
   },
   "outputs": [],
   "source": [
    "import pandas as pd\n",
    "import numpy as np\n",
    "import matplotlib.pyplot as plt\n",
    "import seaborn as sns\n",
    "import datetime\n",
    "import os\n",
    "import nltk\n",
    "from tqdm import tqdm\n",
    "from sklearn.metrics.pairwise import cosine_similarity\n",
    "from wordcloud import WordCloud\n",
    "plt.style.use('ggplot')\n",
    "sns.set()\n",
    "plt.rcParams['figure.figsize'] = (12,12)"
   ]
  },
  {
   "cell_type": "code",
   "execution_count": 2,
   "id": "c61673e4",
   "metadata": {
    "ExecuteTime": {
     "end_time": "2022-01-27T06:29:11.072963Z",
     "start_time": "2022-01-27T06:29:09.835465Z"
    }
   },
   "outputs": [],
   "source": [
    "skill_df = pd.read_csv('skills_full_csv.csv',header=[0,1],index_col=0)\n",
    "course_df = pd.read_excel('../data/CSE_Courses_BD.xlsx',sheet_name = 0)\n",
    "map_df = pd.read_excel('../data/CSE_Courses_BD.xlsx',sheet_name = 1)"
   ]
  },
  {
   "cell_type": "code",
   "execution_count": 3,
   "id": "fca98910",
   "metadata": {
    "ExecuteTime": {
     "end_time": "2022-01-27T06:29:11.154537Z",
     "start_time": "2022-01-27T06:29:11.152427Z"
    }
   },
   "outputs": [],
   "source": [
    "skill_df = skill_df.xs('Percentage',level=1,axis=1)"
   ]
  },
  {
   "cell_type": "code",
   "execution_count": 4,
   "id": "96b7cd11",
   "metadata": {
    "ExecuteTime": {
     "end_time": "2022-01-27T06:29:11.213239Z",
     "start_time": "2022-01-27T06:29:11.206849Z"
    }
   },
   "outputs": [],
   "source": [
    "map_df = map_df.melt(id_vars=['Skills']).dropna().drop(['variable'],axis=1)"
   ]
  },
  {
   "cell_type": "code",
   "execution_count": 5,
   "id": "f2a06dac",
   "metadata": {
    "ExecuteTime": {
     "end_time": "2022-01-27T06:29:11.252803Z",
     "start_time": "2022-01-27T06:29:11.250995Z"
    }
   },
   "outputs": [],
   "source": [
    "map_df = map_df.rename(columns={'value':'Course'})"
   ]
  },
  {
   "cell_type": "code",
   "execution_count": 6,
   "id": "ff0f4761",
   "metadata": {
    "ExecuteTime": {
     "end_time": "2022-01-27T06:29:11.293370Z",
     "start_time": "2022-01-27T06:29:11.291711Z"
    }
   },
   "outputs": [],
   "source": [
    "map_df.index = map_df['Skills']"
   ]
  },
  {
   "cell_type": "code",
   "execution_count": 7,
   "id": "cac66613",
   "metadata": {
    "ExecuteTime": {
     "end_time": "2022-01-27T06:29:11.335180Z",
     "start_time": "2022-01-27T06:29:11.333156Z"
    }
   },
   "outputs": [],
   "source": [
    "map_df = map_df.drop(['HTML5','CSS3','JS','Excel','Word','PowerPoint'])"
   ]
  },
  {
   "cell_type": "code",
   "execution_count": 8,
   "id": "dbadb31d",
   "metadata": {
    "ExecuteTime": {
     "end_time": "2022-01-27T06:29:11.389582Z",
     "start_time": "2022-01-27T06:29:11.375524Z"
    }
   },
   "outputs": [
    {
     "data": {
      "text/html": [
       "<div>\n",
       "<style scoped>\n",
       "    .dataframe tbody tr th:only-of-type {\n",
       "        vertical-align: middle;\n",
       "    }\n",
       "\n",
       "    .dataframe tbody tr th {\n",
       "        vertical-align: top;\n",
       "    }\n",
       "\n",
       "    .dataframe thead th {\n",
       "        text-align: right;\n",
       "    }\n",
       "</style>\n",
       "<table border=\"1\" class=\"dataframe\">\n",
       "  <thead>\n",
       "    <tr style=\"text-align: right;\">\n",
       "      <th></th>\n",
       "      <th>2016</th>\n",
       "      <th>2017</th>\n",
       "      <th>2018</th>\n",
       "      <th>2019</th>\n",
       "      <th>2020</th>\n",
       "      <th>2021</th>\n",
       "    </tr>\n",
       "  </thead>\n",
       "  <tbody>\n",
       "    <tr>\n",
       "      <th>Database</th>\n",
       "      <td>21.077844</td>\n",
       "      <td>20.554100</td>\n",
       "      <td>19.318996</td>\n",
       "      <td>21.868583</td>\n",
       "      <td>25.185833</td>\n",
       "      <td>25.100216</td>\n",
       "    </tr>\n",
       "    <tr>\n",
       "      <th>Networking</th>\n",
       "      <td>21.197605</td>\n",
       "      <td>18.906776</td>\n",
       "      <td>16.451613</td>\n",
       "      <td>18.446270</td>\n",
       "      <td>17.271535</td>\n",
       "      <td>18.994758</td>\n",
       "    </tr>\n",
       "    <tr>\n",
       "      <th>QA</th>\n",
       "      <td>12.495010</td>\n",
       "      <td>14.114564</td>\n",
       "      <td>11.003584</td>\n",
       "      <td>12.491444</td>\n",
       "      <td>14.954088</td>\n",
       "      <td>17.144619</td>\n",
       "    </tr>\n",
       "    <tr>\n",
       "      <th>JAVA</th>\n",
       "      <td>8.023952</td>\n",
       "      <td>6.252340</td>\n",
       "      <td>6.702509</td>\n",
       "      <td>6.125941</td>\n",
       "      <td>6.777438</td>\n",
       "      <td>6.506321</td>\n",
       "    </tr>\n",
       "    <tr>\n",
       "      <th>PHP</th>\n",
       "      <td>21.836327</td>\n",
       "      <td>20.029951</td>\n",
       "      <td>16.415771</td>\n",
       "      <td>16.187543</td>\n",
       "      <td>17.184084</td>\n",
       "      <td>13.660191</td>\n",
       "    </tr>\n",
       "    <tr>\n",
       "      <th>JavaScript</th>\n",
       "      <td>22.994012</td>\n",
       "      <td>22.575814</td>\n",
       "      <td>19.139785</td>\n",
       "      <td>21.081451</td>\n",
       "      <td>23.830345</td>\n",
       "      <td>20.906568</td>\n",
       "    </tr>\n",
       "    <tr>\n",
       "      <th>API</th>\n",
       "      <td>11.976048</td>\n",
       "      <td>14.189442</td>\n",
       "      <td>14.802867</td>\n",
       "      <td>19.472964</td>\n",
       "      <td>25.054657</td>\n",
       "      <td>26.672834</td>\n",
       "    </tr>\n",
       "    <tr>\n",
       "      <th>SQL</th>\n",
       "      <td>9.620758</td>\n",
       "      <td>8.873081</td>\n",
       "      <td>8.960573</td>\n",
       "      <td>9.103354</td>\n",
       "      <td>7.826847</td>\n",
       "      <td>9.312365</td>\n",
       "    </tr>\n",
       "    <tr>\n",
       "      <th>jQuery</th>\n",
       "      <td>18.203593</td>\n",
       "      <td>16.697866</td>\n",
       "      <td>12.114695</td>\n",
       "      <td>12.731006</td>\n",
       "      <td>13.511150</td>\n",
       "      <td>10.576627</td>\n",
       "    </tr>\n",
       "    <tr>\n",
       "      <th>WordPress</th>\n",
       "      <td>9.820359</td>\n",
       "      <td>7.675028</td>\n",
       "      <td>7.275986</td>\n",
       "      <td>5.783710</td>\n",
       "      <td>8.439003</td>\n",
       "      <td>6.506321</td>\n",
       "    </tr>\n",
       "    <tr>\n",
       "      <th>CSS</th>\n",
       "      <td>20.678643</td>\n",
       "      <td>18.457507</td>\n",
       "      <td>15.089606</td>\n",
       "      <td>15.229295</td>\n",
       "      <td>18.277219</td>\n",
       "      <td>14.554425</td>\n",
       "    </tr>\n",
       "    <tr>\n",
       "      <th>HTML</th>\n",
       "      <td>21.437126</td>\n",
       "      <td>18.719581</td>\n",
       "      <td>15.734767</td>\n",
       "      <td>15.639973</td>\n",
       "      <td>18.670748</td>\n",
       "      <td>15.078631</td>\n",
       "    </tr>\n",
       "    <tr>\n",
       "      <th>AJAX</th>\n",
       "      <td>12.255489</td>\n",
       "      <td>11.306627</td>\n",
       "      <td>9.390681</td>\n",
       "      <td>8.453114</td>\n",
       "      <td>8.307827</td>\n",
       "      <td>7.153870</td>\n",
       "    </tr>\n",
       "    <tr>\n",
       "      <th>C</th>\n",
       "      <td>1.277445</td>\n",
       "      <td>1.198053</td>\n",
       "      <td>1.003584</td>\n",
       "      <td>0.821355</td>\n",
       "      <td>0.437254</td>\n",
       "      <td>0.308356</td>\n",
       "    </tr>\n",
       "    <tr>\n",
       "      <th>Laravel</th>\n",
       "      <td>4.590818</td>\n",
       "      <td>5.653313</td>\n",
       "      <td>7.347670</td>\n",
       "      <td>8.966461</td>\n",
       "      <td>11.368605</td>\n",
       "      <td>8.942337</td>\n",
       "    </tr>\n",
       "    <tr>\n",
       "      <th>iOS</th>\n",
       "      <td>6.107784</td>\n",
       "      <td>5.353800</td>\n",
       "      <td>4.731183</td>\n",
       "      <td>4.106776</td>\n",
       "      <td>4.984696</td>\n",
       "      <td>5.427074</td>\n",
       "    </tr>\n",
       "    <tr>\n",
       "      <th>ASP.NET</th>\n",
       "      <td>12.375250</td>\n",
       "      <td>9.921378</td>\n",
       "      <td>6.702509</td>\n",
       "      <td>7.871321</td>\n",
       "      <td>6.427634</td>\n",
       "      <td>7.308048</td>\n",
       "    </tr>\n",
       "    <tr>\n",
       "      <th>Git</th>\n",
       "      <td>3.992016</td>\n",
       "      <td>5.952827</td>\n",
       "      <td>5.519713</td>\n",
       "      <td>7.802875</td>\n",
       "      <td>9.182335</td>\n",
       "      <td>10.206599</td>\n",
       "    </tr>\n",
       "    <tr>\n",
       "      <th>OOP</th>\n",
       "      <td>8.263473</td>\n",
       "      <td>8.199176</td>\n",
       "      <td>6.379928</td>\n",
       "      <td>9.342916</td>\n",
       "      <td>10.843900</td>\n",
       "      <td>10.299106</td>\n",
       "    </tr>\n",
       "    <tr>\n",
       "      <th>Angular</th>\n",
       "      <td>6.506986</td>\n",
       "      <td>7.525271</td>\n",
       "      <td>6.810036</td>\n",
       "      <td>7.631759</td>\n",
       "      <td>8.132925</td>\n",
       "      <td>7.770583</td>\n",
       "    </tr>\n",
       "    <tr>\n",
       "      <th>Photoshop</th>\n",
       "      <td>6.027944</td>\n",
       "      <td>5.840509</td>\n",
       "      <td>5.627240</td>\n",
       "      <td>5.989049</td>\n",
       "      <td>4.591167</td>\n",
       "      <td>3.176072</td>\n",
       "    </tr>\n",
       "    <tr>\n",
       "      <th>Illustrator</th>\n",
       "      <td>4.271457</td>\n",
       "      <td>4.155747</td>\n",
       "      <td>4.157706</td>\n",
       "      <td>4.517454</td>\n",
       "      <td>3.672934</td>\n",
       "      <td>2.836879</td>\n",
       "    </tr>\n",
       "    <tr>\n",
       "      <th>Python</th>\n",
       "      <td>1.676647</td>\n",
       "      <td>1.871958</td>\n",
       "      <td>1.863799</td>\n",
       "      <td>2.840520</td>\n",
       "      <td>2.623524</td>\n",
       "      <td>3.453592</td>\n",
       "    </tr>\n",
       "    <tr>\n",
       "      <th>aws</th>\n",
       "      <td>0.878244</td>\n",
       "      <td>1.048297</td>\n",
       "      <td>1.577061</td>\n",
       "      <td>1.813826</td>\n",
       "      <td>2.885877</td>\n",
       "      <td>3.237743</td>\n",
       "    </tr>\n",
       "    <tr>\n",
       "      <th>Android</th>\n",
       "      <td>8.303393</td>\n",
       "      <td>8.086859</td>\n",
       "      <td>7.706093</td>\n",
       "      <td>7.802875</td>\n",
       "      <td>8.482728</td>\n",
       "      <td>8.942337</td>\n",
       "    </tr>\n",
       "    <tr>\n",
       "      <th>SEO</th>\n",
       "      <td>3.912176</td>\n",
       "      <td>4.567578</td>\n",
       "      <td>6.308244</td>\n",
       "      <td>7.255305</td>\n",
       "      <td>8.176651</td>\n",
       "      <td>8.048104</td>\n",
       "    </tr>\n",
       "    <tr>\n",
       "      <th>MySQL</th>\n",
       "      <td>13.852295</td>\n",
       "      <td>12.317484</td>\n",
       "      <td>9.677419</td>\n",
       "      <td>10.780287</td>\n",
       "      <td>11.937035</td>\n",
       "      <td>10.761640</td>\n",
       "    </tr>\n",
       "    <tr>\n",
       "      <th>Oracle</th>\n",
       "      <td>6.706587</td>\n",
       "      <td>4.979408</td>\n",
       "      <td>3.727599</td>\n",
       "      <td>4.346338</td>\n",
       "      <td>3.235680</td>\n",
       "      <td>4.101141</td>\n",
       "    </tr>\n",
       "    <tr>\n",
       "      <th>ERP</th>\n",
       "      <td>3.433134</td>\n",
       "      <td>4.342943</td>\n",
       "      <td>3.046595</td>\n",
       "      <td>3.045859</td>\n",
       "      <td>3.804110</td>\n",
       "      <td>3.422757</td>\n",
       "    </tr>\n",
       "    <tr>\n",
       "      <th>MVC</th>\n",
       "      <td>11.017964</td>\n",
       "      <td>9.958817</td>\n",
       "      <td>7.777778</td>\n",
       "      <td>8.966461</td>\n",
       "      <td>7.389593</td>\n",
       "      <td>7.431391</td>\n",
       "    </tr>\n",
       "    <tr>\n",
       "      <th>UI Design</th>\n",
       "      <td>16.526946</td>\n",
       "      <td>16.997379</td>\n",
       "      <td>18.315412</td>\n",
       "      <td>20.020534</td>\n",
       "      <td>20.769567</td>\n",
       "      <td>23.990133</td>\n",
       "    </tr>\n",
       "    <tr>\n",
       "      <th>Linux</th>\n",
       "      <td>4.870259</td>\n",
       "      <td>5.540996</td>\n",
       "      <td>3.942652</td>\n",
       "      <td>4.004107</td>\n",
       "      <td>4.766069</td>\n",
       "      <td>4.070305</td>\n",
       "    </tr>\n",
       "    <tr>\n",
       "      <th>Bootstrap</th>\n",
       "      <td>9.980040</td>\n",
       "      <td>8.461250</td>\n",
       "      <td>6.487455</td>\n",
       "      <td>7.734428</td>\n",
       "      <td>8.963708</td>\n",
       "      <td>7.369719</td>\n",
       "    </tr>\n",
       "    <tr>\n",
       "      <th>React</th>\n",
       "      <td>0.479042</td>\n",
       "      <td>1.272931</td>\n",
       "      <td>2.473118</td>\n",
       "      <td>3.969884</td>\n",
       "      <td>6.558811</td>\n",
       "      <td>7.523898</td>\n",
       "    </tr>\n",
       "    <tr>\n",
       "      <th>Documentation</th>\n",
       "      <td>12.774451</td>\n",
       "      <td>12.654437</td>\n",
       "      <td>12.114695</td>\n",
       "      <td>12.867899</td>\n",
       "      <td>13.205072</td>\n",
       "      <td>14.986124</td>\n",
       "    </tr>\n",
       "    <tr>\n",
       "      <th>C#</th>\n",
       "      <td>7.864271</td>\n",
       "      <td>7.225758</td>\n",
       "      <td>5.519713</td>\n",
       "      <td>5.065024</td>\n",
       "      <td>4.634893</td>\n",
       "      <td>5.211224</td>\n",
       "    </tr>\n",
       "    <tr>\n",
       "      <th>SQL Server</th>\n",
       "      <td>9.341317</td>\n",
       "      <td>7.637589</td>\n",
       "      <td>5.770609</td>\n",
       "      <td>5.681040</td>\n",
       "      <td>6.252733</td>\n",
       "      <td>6.012951</td>\n",
       "    </tr>\n",
       "    <tr>\n",
       "      <th>Design Pattern</th>\n",
       "      <td>4.990020</td>\n",
       "      <td>5.278922</td>\n",
       "      <td>3.655914</td>\n",
       "      <td>6.433949</td>\n",
       "      <td>6.558811</td>\n",
       "      <td>7.616405</td>\n",
       "    </tr>\n",
       "  </tbody>\n",
       "</table>\n",
       "</div>"
      ],
      "text/plain": [
       "                     2016       2017       2018       2019       2020  \\\n",
       "Database        21.077844  20.554100  19.318996  21.868583  25.185833   \n",
       "Networking      21.197605  18.906776  16.451613  18.446270  17.271535   \n",
       "QA              12.495010  14.114564  11.003584  12.491444  14.954088   \n",
       "JAVA             8.023952   6.252340   6.702509   6.125941   6.777438   \n",
       "PHP             21.836327  20.029951  16.415771  16.187543  17.184084   \n",
       "JavaScript      22.994012  22.575814  19.139785  21.081451  23.830345   \n",
       "API             11.976048  14.189442  14.802867  19.472964  25.054657   \n",
       "SQL              9.620758   8.873081   8.960573   9.103354   7.826847   \n",
       "jQuery          18.203593  16.697866  12.114695  12.731006  13.511150   \n",
       "WordPress        9.820359   7.675028   7.275986   5.783710   8.439003   \n",
       "CSS             20.678643  18.457507  15.089606  15.229295  18.277219   \n",
       "HTML            21.437126  18.719581  15.734767  15.639973  18.670748   \n",
       "AJAX            12.255489  11.306627   9.390681   8.453114   8.307827   \n",
       "C                1.277445   1.198053   1.003584   0.821355   0.437254   \n",
       "Laravel          4.590818   5.653313   7.347670   8.966461  11.368605   \n",
       "iOS              6.107784   5.353800   4.731183   4.106776   4.984696   \n",
       "ASP.NET         12.375250   9.921378   6.702509   7.871321   6.427634   \n",
       "Git              3.992016   5.952827   5.519713   7.802875   9.182335   \n",
       "OOP              8.263473   8.199176   6.379928   9.342916  10.843900   \n",
       "Angular          6.506986   7.525271   6.810036   7.631759   8.132925   \n",
       "Photoshop        6.027944   5.840509   5.627240   5.989049   4.591167   \n",
       "Illustrator      4.271457   4.155747   4.157706   4.517454   3.672934   \n",
       "Python           1.676647   1.871958   1.863799   2.840520   2.623524   \n",
       "aws              0.878244   1.048297   1.577061   1.813826   2.885877   \n",
       "Android          8.303393   8.086859   7.706093   7.802875   8.482728   \n",
       "SEO              3.912176   4.567578   6.308244   7.255305   8.176651   \n",
       "MySQL           13.852295  12.317484   9.677419  10.780287  11.937035   \n",
       "Oracle           6.706587   4.979408   3.727599   4.346338   3.235680   \n",
       "ERP              3.433134   4.342943   3.046595   3.045859   3.804110   \n",
       "MVC             11.017964   9.958817   7.777778   8.966461   7.389593   \n",
       "UI Design       16.526946  16.997379  18.315412  20.020534  20.769567   \n",
       "Linux            4.870259   5.540996   3.942652   4.004107   4.766069   \n",
       "Bootstrap        9.980040   8.461250   6.487455   7.734428   8.963708   \n",
       "React            0.479042   1.272931   2.473118   3.969884   6.558811   \n",
       "Documentation   12.774451  12.654437  12.114695  12.867899  13.205072   \n",
       "C#               7.864271   7.225758   5.519713   5.065024   4.634893   \n",
       "SQL Server       9.341317   7.637589   5.770609   5.681040   6.252733   \n",
       "Design Pattern   4.990020   5.278922   3.655914   6.433949   6.558811   \n",
       "\n",
       "                     2021  \n",
       "Database        25.100216  \n",
       "Networking      18.994758  \n",
       "QA              17.144619  \n",
       "JAVA             6.506321  \n",
       "PHP             13.660191  \n",
       "JavaScript      20.906568  \n",
       "API             26.672834  \n",
       "SQL              9.312365  \n",
       "jQuery          10.576627  \n",
       "WordPress        6.506321  \n",
       "CSS             14.554425  \n",
       "HTML            15.078631  \n",
       "AJAX             7.153870  \n",
       "C                0.308356  \n",
       "Laravel          8.942337  \n",
       "iOS              5.427074  \n",
       "ASP.NET          7.308048  \n",
       "Git             10.206599  \n",
       "OOP             10.299106  \n",
       "Angular          7.770583  \n",
       "Photoshop        3.176072  \n",
       "Illustrator      2.836879  \n",
       "Python           3.453592  \n",
       "aws              3.237743  \n",
       "Android          8.942337  \n",
       "SEO              8.048104  \n",
       "MySQL           10.761640  \n",
       "Oracle           4.101141  \n",
       "ERP              3.422757  \n",
       "MVC              7.431391  \n",
       "UI Design       23.990133  \n",
       "Linux            4.070305  \n",
       "Bootstrap        7.369719  \n",
       "React            7.523898  \n",
       "Documentation   14.986124  \n",
       "C#               5.211224  \n",
       "SQL Server       6.012951  \n",
       "Design Pattern   7.616405  "
      ]
     },
     "execution_count": 8,
     "metadata": {},
     "output_type": "execute_result"
    }
   ],
   "source": [
    "skill_df[skill_df.index.isin(map_df.index)]"
   ]
  },
  {
   "cell_type": "code",
   "execution_count": 9,
   "id": "f42d5ffe",
   "metadata": {
    "ExecuteTime": {
     "end_time": "2022-01-27T06:29:13.637516Z",
     "start_time": "2022-01-27T06:29:13.634626Z"
    }
   },
   "outputs": [
    {
     "data": {
      "text/plain": [
       "array(['Database', 'Database', 'OOP', 'Database', 'Database',\n",
       "       'Structured Programming', 'OOP', 'OS',\n",
       "       'Software Development Project', 'OOP',\n",
       "       'Software Development Project', 'Database', 'Software Engineering',\n",
       "       'Computer Graphics', 'Computer Graphics', 'Machine Learning',\n",
       "       'Software Development Project', 'Software Engineering',\n",
       "       'Computer Networks', 'Software Engineering',\n",
       "       'Software Development Project', 'Computer Networks',\n",
       "       'Technical Writing and Presentations', 'Software Engineering',\n",
       "       'Software Development Project', 'Software Development Project',\n",
       "       'Software Development Project', 'Software Development Project',\n",
       "       'Software Development Project', 'Software Development Project',\n",
       "       'Software Development Project', 'Software Development Project',\n",
       "       'Software Development Project', 'Software Development Project',\n",
       "       'Software Development Project', 'Software Development Project',\n",
       "       'Software Development Project', 'Software Development Project',\n",
       "       'Software Development Project', 'Software Development Project',\n",
       "       'Software Development Project', 'Software Development Project',\n",
       "       'Software Development Project', 'AI', 'OOP',\n",
       "       'Software Development Project', 'Software Development Project',\n",
       "       'Computer Security', 'Software Development Project',\n",
       "       'Software Development Project', 'Software Development Project',\n",
       "       'Digital Signal Processing'], dtype=object)"
      ]
     },
     "execution_count": 9,
     "metadata": {},
     "output_type": "execute_result"
    }
   ],
   "source": [
    "map_df.Course.values"
   ]
  },
  {
   "cell_type": "code",
   "execution_count": 10,
   "id": "b3226224",
   "metadata": {
    "ExecuteTime": {
     "end_time": "2022-01-27T06:29:15.201736Z",
     "start_time": "2022-01-27T06:29:15.197051Z"
    },
    "scrolled": true
   },
   "outputs": [],
   "source": [
    "course_importance = pd.DataFrame(index = set(map_df.Course.values), columns = skill_df.columns).fillna(0)\n",
    "course_count = pd.DataFrame(index = set(map_df.Course.values), columns = skill_df.columns).fillna(0)\n"
   ]
  },
  {
   "cell_type": "code",
   "execution_count": 11,
   "id": "d7cf8513",
   "metadata": {
    "ExecuteTime": {
     "end_time": "2022-01-27T06:29:16.486342Z",
     "start_time": "2022-01-27T06:29:16.483681Z"
    }
   },
   "outputs": [],
   "source": [
    "skill_course_count = map_df['Course'].value_counts()"
   ]
  },
  {
   "cell_type": "code",
   "execution_count": 45,
   "id": "eaf95043",
   "metadata": {
    "ExecuteTime": {
     "end_time": "2022-01-27T06:42:18.150645Z",
     "start_time": "2022-01-27T06:42:18.148427Z"
    }
   },
   "outputs": [],
   "source": [
    "course_importance.index = course_importance['index']"
   ]
  },
  {
   "cell_type": "code",
   "execution_count": 40,
   "id": "edf01693",
   "metadata": {
    "ExecuteTime": {
     "end_time": "2022-01-27T06:39:27.920236Z",
     "start_time": "2022-01-27T06:39:27.898429Z"
    }
   },
   "outputs": [
    {
     "data": {
      "text/html": [
       "<div>\n",
       "<style scoped>\n",
       "    .dataframe tbody tr th:only-of-type {\n",
       "        vertical-align: middle;\n",
       "    }\n",
       "\n",
       "    .dataframe tbody tr th {\n",
       "        vertical-align: top;\n",
       "    }\n",
       "\n",
       "    .dataframe thead th {\n",
       "        text-align: right;\n",
       "    }\n",
       "</style>\n",
       "<table border=\"1\" class=\"dataframe\">\n",
       "  <thead>\n",
       "    <tr style=\"text-align: right;\">\n",
       "      <th></th>\n",
       "      <th>index</th>\n",
       "      <th>Course</th>\n",
       "      <th>Year</th>\n",
       "    </tr>\n",
       "  </thead>\n",
       "  <tbody>\n",
       "    <tr>\n",
       "      <th>0</th>\n",
       "      <td>Software Development Project</td>\n",
       "      <td>28</td>\n",
       "      <td>2021</td>\n",
       "    </tr>\n",
       "    <tr>\n",
       "      <th>1</th>\n",
       "      <td>Database</td>\n",
       "      <td>5</td>\n",
       "      <td>2021</td>\n",
       "    </tr>\n",
       "    <tr>\n",
       "      <th>2</th>\n",
       "      <td>OOP</td>\n",
       "      <td>4</td>\n",
       "      <td>2021</td>\n",
       "    </tr>\n",
       "    <tr>\n",
       "      <th>3</th>\n",
       "      <td>Software Engineering</td>\n",
       "      <td>4</td>\n",
       "      <td>2021</td>\n",
       "    </tr>\n",
       "    <tr>\n",
       "      <th>4</th>\n",
       "      <td>Computer Graphics</td>\n",
       "      <td>2</td>\n",
       "      <td>2021</td>\n",
       "    </tr>\n",
       "    <tr>\n",
       "      <th>5</th>\n",
       "      <td>Computer Networks</td>\n",
       "      <td>2</td>\n",
       "      <td>2021</td>\n",
       "    </tr>\n",
       "    <tr>\n",
       "      <th>6</th>\n",
       "      <td>Technical Writing and Presentations</td>\n",
       "      <td>1</td>\n",
       "      <td>2021</td>\n",
       "    </tr>\n",
       "    <tr>\n",
       "      <th>7</th>\n",
       "      <td>Machine Learning</td>\n",
       "      <td>1</td>\n",
       "      <td>2021</td>\n",
       "    </tr>\n",
       "    <tr>\n",
       "      <th>8</th>\n",
       "      <td>Structured Programming</td>\n",
       "      <td>1</td>\n",
       "      <td>2021</td>\n",
       "    </tr>\n",
       "    <tr>\n",
       "      <th>9</th>\n",
       "      <td>OS</td>\n",
       "      <td>1</td>\n",
       "      <td>2021</td>\n",
       "    </tr>\n",
       "    <tr>\n",
       "      <th>10</th>\n",
       "      <td>Digital Signal Processing</td>\n",
       "      <td>1</td>\n",
       "      <td>2021</td>\n",
       "    </tr>\n",
       "    <tr>\n",
       "      <th>11</th>\n",
       "      <td>Computer Security</td>\n",
       "      <td>1</td>\n",
       "      <td>2021</td>\n",
       "    </tr>\n",
       "    <tr>\n",
       "      <th>12</th>\n",
       "      <td>AI</td>\n",
       "      <td>1</td>\n",
       "      <td>2021</td>\n",
       "    </tr>\n",
       "  </tbody>\n",
       "</table>\n",
       "</div>"
      ],
      "text/plain": [
       "                                  index  Course  Year\n",
       "0          Software Development Project      28  2021\n",
       "1                              Database       5  2021\n",
       "2                                   OOP       4  2021\n",
       "3                  Software Engineering       4  2021\n",
       "4                     Computer Graphics       2  2021\n",
       "5                     Computer Networks       2  2021\n",
       "6   Technical Writing and Presentations       1  2021\n",
       "7                      Machine Learning       1  2021\n",
       "8                Structured Programming       1  2021\n",
       "9                                    OS       1  2021\n",
       "10            Digital Signal Processing       1  2021\n",
       "11                    Computer Security       1  2021\n",
       "12                                   AI       1  2021"
      ]
     },
     "execution_count": 40,
     "metadata": {},
     "output_type": "execute_result"
    }
   ],
   "source": [
    "skill_count_df = pd.DataFrame(skill_course_count).reset_index()\n",
    "skill_count_df['Year'] = 2021\n",
    "skill_count_df"
   ]
  },
  {
   "cell_type": "code",
   "execution_count": 48,
   "id": "b936cb78",
   "metadata": {
    "ExecuteTime": {
     "end_time": "2022-01-27T06:43:24.504999Z",
     "start_time": "2022-01-27T06:43:24.501335Z"
    }
   },
   "outputs": [
    {
     "data": {
      "text/plain": [
       "11.296859169199594"
      ]
     },
     "execution_count": 48,
     "metadata": {},
     "output_type": "execute_result"
    }
   ],
   "source": [
    "course_importance.loc[skill_course_count.index[index]].values[1]"
   ]
  },
  {
   "cell_type": "code",
   "execution_count": 64,
   "id": "487bdd0d",
   "metadata": {
    "ExecuteTime": {
     "end_time": "2022-01-27T06:51:54.071587Z",
     "start_time": "2022-01-27T06:51:53.721032Z"
    }
   },
   "outputs": [
    {
     "data": {
      "image/png": "[encoded data removed]",
      "text/plain": [
       "<Figure size 1440x864 with 1 Axes>"
      ]
     },
     "metadata": {},
     "output_type": "display_data"
    }
   ],
   "source": [
    "plt.rcParams['figure.figsize'] = (20,12)\n",
    "\n",
    "fig, ax = plt.subplots(figsize=(20, 12))\n",
    "sns.barplot(x='Year',y='Course',hue='index',data=skill_count_df.sort_values('Course',ascending=False),ax=ax,palette='tab20')\n",
    "\n",
    "# for index in range(len(course_importance)):\n",
    "#     plt.text(x=index/1000 , y =skill_course_count.iloc[index] +0.1 , s=\"%2.1f\" %course_importance.loc[skill_course_count.index[index]].values[1] , fontdict=dict(fontsize=14))\n",
    "plt.xticks([])\n",
    "plt.xlabel(None)\n",
    "plt.yticks(fontsize=20)\n",
    "plt.ylabel('number of skills covered',fontsize=20)\n",
    "plt.legend(fontsize=20)\n",
    "plt.tight_layout()\n",
    "\"%2.1f\" %course_importance.loc[skill_course_count.index[index]].values[1] \n",
    "plt.xticks()\n",
    "for index,rect in enumerate(ax.patches):\n",
    "    height = rect.get_height()\n",
    "    ax.text(rect.get_x() + rect.get_width() / 2., 0.2 * height,\n",
    "            s = \"%2.1f\" %course_importance.loc[skill_course_count.index[index]].values[1] ,\n",
    "            ha='center', va='bottom', rotation=0, color='white',fontsize=20)\n",
    "plt.savefig('../G12.png')    "
   ]
  },
  {
   "cell_type": "code",
   "execution_count": 129,
   "id": "f83ab3e1",
   "metadata": {
    "ExecuteTime": {
     "end_time": "2022-01-26T16:00:24.535975Z",
     "start_time": "2022-01-26T16:00:24.528497Z"
    }
   },
   "outputs": [
    {
     "data": {
      "text/html": [
       "<div>\n",
       "<style scoped>\n",
       "    .dataframe tbody tr th:only-of-type {\n",
       "        vertical-align: middle;\n",
       "    }\n",
       "\n",
       "    .dataframe tbody tr th {\n",
       "        vertical-align: top;\n",
       "    }\n",
       "\n",
       "    .dataframe thead th {\n",
       "        text-align: right;\n",
       "    }\n",
       "</style>\n",
       "<table border=\"1\" class=\"dataframe\">\n",
       "  <thead>\n",
       "    <tr style=\"text-align: right;\">\n",
       "      <th></th>\n",
       "      <th>2016</th>\n",
       "      <th>2017</th>\n",
       "      <th>2018</th>\n",
       "      <th>2019</th>\n",
       "      <th>2020</th>\n",
       "      <th>2021</th>\n",
       "    </tr>\n",
       "  </thead>\n",
       "  <tbody>\n",
       "    <tr>\n",
       "      <th>OOP</th>\n",
       "      <td>0</td>\n",
       "      <td>0</td>\n",
       "      <td>0</td>\n",
       "      <td>0</td>\n",
       "      <td>0</td>\n",
       "      <td>0</td>\n",
       "    </tr>\n",
       "    <tr>\n",
       "      <th>AI</th>\n",
       "      <td>0</td>\n",
       "      <td>0</td>\n",
       "      <td>0</td>\n",
       "      <td>0</td>\n",
       "      <td>0</td>\n",
       "      <td>0</td>\n",
       "    </tr>\n",
       "    <tr>\n",
       "      <th>Software Engineering</th>\n",
       "      <td>0</td>\n",
       "      <td>0</td>\n",
       "      <td>0</td>\n",
       "      <td>0</td>\n",
       "      <td>0</td>\n",
       "      <td>0</td>\n",
       "    </tr>\n",
       "    <tr>\n",
       "      <th>Digital Signal Processing</th>\n",
       "      <td>0</td>\n",
       "      <td>0</td>\n",
       "      <td>0</td>\n",
       "      <td>0</td>\n",
       "      <td>0</td>\n",
       "      <td>0</td>\n",
       "    </tr>\n",
       "    <tr>\n",
       "      <th>Structured Programming</th>\n",
       "      <td>0</td>\n",
       "      <td>0</td>\n",
       "      <td>0</td>\n",
       "      <td>0</td>\n",
       "      <td>0</td>\n",
       "      <td>0</td>\n",
       "    </tr>\n",
       "    <tr>\n",
       "      <th>Computer Networks</th>\n",
       "      <td>0</td>\n",
       "      <td>0</td>\n",
       "      <td>0</td>\n",
       "      <td>0</td>\n",
       "      <td>0</td>\n",
       "      <td>0</td>\n",
       "    </tr>\n",
       "    <tr>\n",
       "      <th>OS</th>\n",
       "      <td>0</td>\n",
       "      <td>0</td>\n",
       "      <td>0</td>\n",
       "      <td>0</td>\n",
       "      <td>0</td>\n",
       "      <td>0</td>\n",
       "    </tr>\n",
       "    <tr>\n",
       "      <th>Software Development Project</th>\n",
       "      <td>0</td>\n",
       "      <td>0</td>\n",
       "      <td>0</td>\n",
       "      <td>0</td>\n",
       "      <td>0</td>\n",
       "      <td>0</td>\n",
       "    </tr>\n",
       "    <tr>\n",
       "      <th>Machine Learning</th>\n",
       "      <td>0</td>\n",
       "      <td>0</td>\n",
       "      <td>0</td>\n",
       "      <td>0</td>\n",
       "      <td>0</td>\n",
       "      <td>0</td>\n",
       "    </tr>\n",
       "    <tr>\n",
       "      <th>Computer Graphics</th>\n",
       "      <td>0</td>\n",
       "      <td>0</td>\n",
       "      <td>0</td>\n",
       "      <td>0</td>\n",
       "      <td>0</td>\n",
       "      <td>0</td>\n",
       "    </tr>\n",
       "    <tr>\n",
       "      <th>Computer Security</th>\n",
       "      <td>0</td>\n",
       "      <td>0</td>\n",
       "      <td>0</td>\n",
       "      <td>0</td>\n",
       "      <td>0</td>\n",
       "      <td>0</td>\n",
       "    </tr>\n",
       "    <tr>\n",
       "      <th>Database</th>\n",
       "      <td>0</td>\n",
       "      <td>0</td>\n",
       "      <td>0</td>\n",
       "      <td>0</td>\n",
       "      <td>0</td>\n",
       "      <td>0</td>\n",
       "    </tr>\n",
       "    <tr>\n",
       "      <th>Technical Writing and Presentations</th>\n",
       "      <td>0</td>\n",
       "      <td>0</td>\n",
       "      <td>0</td>\n",
       "      <td>0</td>\n",
       "      <td>0</td>\n",
       "      <td>0</td>\n",
       "    </tr>\n",
       "  </tbody>\n",
       "</table>\n",
       "</div>"
      ],
      "text/plain": [
       "                                     2016  2017  2018  2019  2020  2021\n",
       "OOP                                     0     0     0     0     0     0\n",
       "AI                                      0     0     0     0     0     0\n",
       "Software Engineering                    0     0     0     0     0     0\n",
       "Digital Signal Processing               0     0     0     0     0     0\n",
       "Structured Programming                  0     0     0     0     0     0\n",
       "Computer Networks                       0     0     0     0     0     0\n",
       "OS                                      0     0     0     0     0     0\n",
       "Software Development Project            0     0     0     0     0     0\n",
       "Machine Learning                        0     0     0     0     0     0\n",
       "Computer Graphics                       0     0     0     0     0     0\n",
       "Computer Security                       0     0     0     0     0     0\n",
       "Database                                0     0     0     0     0     0\n",
       "Technical Writing and Presentations     0     0     0     0     0     0"
      ]
     },
     "execution_count": 129,
     "metadata": {},
     "output_type": "execute_result"
    }
   ],
   "source": [
    "course_importance"
   ]
  },
  {
   "cell_type": "code",
   "execution_count": 130,
   "id": "af01b31f",
   "metadata": {
    "ExecuteTime": {
     "end_time": "2022-01-26T16:00:25.242097Z",
     "start_time": "2022-01-26T16:00:25.089467Z"
    }
   },
   "outputs": [
    {
     "ename": "NameError",
     "evalue": "name 'menMeans' is not defined",
     "output_type": "error",
     "traceback": [
      "\u001b[0;31m---------------------------------------------------------------------------\u001b[0m",
      "\u001b[0;31mNameError\u001b[0m                                 Traceback (most recent call last)",
      "\u001b[0;32m<ipython-input-130-5f134a0ec66a>\u001b[0m in \u001b[0;36m<module>\u001b[0;34m\u001b[0m\n\u001b[1;32m      1\u001b[0m \u001b[0mskill_course_count\u001b[0m\u001b[0;34m.\u001b[0m\u001b[0mplot\u001b[0m\u001b[0;34m(\u001b[0m\u001b[0mkind\u001b[0m\u001b[0;34m=\u001b[0m\u001b[0;34m'bar'\u001b[0m\u001b[0;34m)\u001b[0m\u001b[0;34m\u001b[0m\u001b[0;34m\u001b[0m\u001b[0m\n\u001b[0;32m----> 2\u001b[0;31m \u001b[0;32mfor\u001b[0m \u001b[0mindex\u001b[0m\u001b[0;34m,\u001b[0m\u001b[0mdata\u001b[0m \u001b[0;32min\u001b[0m \u001b[0menumerate\u001b[0m\u001b[0;34m(\u001b[0m\u001b[0mmenMeans\u001b[0m\u001b[0;34m)\u001b[0m\u001b[0;34m:\u001b[0m\u001b[0;34m\u001b[0m\u001b[0;34m\u001b[0m\u001b[0m\n\u001b[0m\u001b[1;32m      3\u001b[0m     \u001b[0mplt\u001b[0m\u001b[0;34m.\u001b[0m\u001b[0mtext\u001b[0m\u001b[0;34m(\u001b[0m\u001b[0mx\u001b[0m\u001b[0;34m=\u001b[0m\u001b[0mindex\u001b[0m \u001b[0;34m,\u001b[0m \u001b[0my\u001b[0m \u001b[0;34m=\u001b[0m\u001b[0mdata\u001b[0m\u001b[0;34m+\u001b[0m\u001b[0;36m1\u001b[0m \u001b[0;34m,\u001b[0m \u001b[0ms\u001b[0m\u001b[0;34m=\u001b[0m\u001b[0;34mf\"{data}\"\u001b[0m \u001b[0;34m,\u001b[0m \u001b[0mfontdict\u001b[0m\u001b[0;34m=\u001b[0m\u001b[0mdict\u001b[0m\u001b[0;34m(\u001b[0m\u001b[0mfontsize\u001b[0m\u001b[0;34m=\u001b[0m\u001b[0;36m20\u001b[0m\u001b[0;34m)\u001b[0m\u001b[0;34m)\u001b[0m\u001b[0;34m\u001b[0m\u001b[0;34m\u001b[0m\u001b[0m\n",
      "\u001b[0;31mNameError\u001b[0m: name 'menMeans' is not defined"
     ]
    },
    {
     "data": {
      "image/png": "[encoded data removed]",
      "text/plain": [
       "<Figure size 864x864 with 1 Axes>"
      ]
     },
     "metadata": {},
     "output_type": "display_data"
    }
   ],
   "source": [
    "skill_course_count.plot(kind='bar')\n",
    "for index,data in enumerate(menMeans):\n",
    "    plt.text(x=index , y =data+1 , s=f\"{data}\" , fontdict=dict(fontsize=20))"
   ]
  },
  {
   "cell_type": "code",
   "execution_count": 131,
   "id": "cedfecc1",
   "metadata": {
    "ExecuteTime": {
     "end_time": "2022-01-26T16:00:25.839317Z",
     "start_time": "2022-01-26T16:00:25.831927Z"
    }
   },
   "outputs": [
    {
     "data": {
      "text/html": [
       "<div>\n",
       "<style scoped>\n",
       "    .dataframe tbody tr th:only-of-type {\n",
       "        vertical-align: middle;\n",
       "    }\n",
       "\n",
       "    .dataframe tbody tr th {\n",
       "        vertical-align: top;\n",
       "    }\n",
       "\n",
       "    .dataframe thead th {\n",
       "        text-align: right;\n",
       "    }\n",
       "</style>\n",
       "<table border=\"1\" class=\"dataframe\">\n",
       "  <thead>\n",
       "    <tr style=\"text-align: right;\">\n",
       "      <th></th>\n",
       "      <th>Skills</th>\n",
       "      <th>Course</th>\n",
       "    </tr>\n",
       "    <tr>\n",
       "      <th>Skills</th>\n",
       "      <th></th>\n",
       "      <th></th>\n",
       "    </tr>\n",
       "  </thead>\n",
       "  <tbody>\n",
       "    <tr>\n",
       "      <th>Database</th>\n",
       "      <td>Database</td>\n",
       "      <td>Database</td>\n",
       "    </tr>\n",
       "    <tr>\n",
       "      <th>SQL</th>\n",
       "      <td>SQL</td>\n",
       "      <td>Database</td>\n",
       "    </tr>\n",
       "    <tr>\n",
       "      <th>Android</th>\n",
       "      <td>Android</td>\n",
       "      <td>OOP</td>\n",
       "    </tr>\n",
       "    <tr>\n",
       "      <th>Oracle</th>\n",
       "      <td>Oracle</td>\n",
       "      <td>Database</td>\n",
       "    </tr>\n",
       "    <tr>\n",
       "      <th>MySQL</th>\n",
       "      <td>MySQL</td>\n",
       "      <td>Database</td>\n",
       "    </tr>\n",
       "    <tr>\n",
       "      <th>C</th>\n",
       "      <td>C</td>\n",
       "      <td>Structured Programming</td>\n",
       "    </tr>\n",
       "    <tr>\n",
       "      <th>JAVA</th>\n",
       "      <td>JAVA</td>\n",
       "      <td>OOP</td>\n",
       "    </tr>\n",
       "    <tr>\n",
       "      <th>Linux</th>\n",
       "      <td>Linux</td>\n",
       "      <td>OS</td>\n",
       "    </tr>\n",
       "    <tr>\n",
       "      <th>iOS</th>\n",
       "      <td>iOS</td>\n",
       "      <td>Software Development Project</td>\n",
       "    </tr>\n",
       "    <tr>\n",
       "      <th>OOP</th>\n",
       "      <td>OOP</td>\n",
       "      <td>OOP</td>\n",
       "    </tr>\n",
       "    <tr>\n",
       "      <th>ASP.NET</th>\n",
       "      <td>ASP.NET</td>\n",
       "      <td>Software Development Project</td>\n",
       "    </tr>\n",
       "    <tr>\n",
       "      <th>SQL Server</th>\n",
       "      <td>SQL Server</td>\n",
       "      <td>Database</td>\n",
       "    </tr>\n",
       "    <tr>\n",
       "      <th>QA</th>\n",
       "      <td>QA</td>\n",
       "      <td>Software Engineering</td>\n",
       "    </tr>\n",
       "    <tr>\n",
       "      <th>Photoshop</th>\n",
       "      <td>Photoshop</td>\n",
       "      <td>Computer Graphics</td>\n",
       "    </tr>\n",
       "    <tr>\n",
       "      <th>Illustrator</th>\n",
       "      <td>Illustrator</td>\n",
       "      <td>Computer Graphics</td>\n",
       "    </tr>\n",
       "    <tr>\n",
       "      <th>Python</th>\n",
       "      <td>Python</td>\n",
       "      <td>Machine Learning</td>\n",
       "    </tr>\n",
       "    <tr>\n",
       "      <th>C#</th>\n",
       "      <td>C#</td>\n",
       "      <td>Software Development Project</td>\n",
       "    </tr>\n",
       "    <tr>\n",
       "      <th>ERP</th>\n",
       "      <td>ERP</td>\n",
       "      <td>Software Engineering</td>\n",
       "    </tr>\n",
       "    <tr>\n",
       "      <th>aws</th>\n",
       "      <td>aws</td>\n",
       "      <td>Computer Networks</td>\n",
       "    </tr>\n",
       "    <tr>\n",
       "      <th>MVC</th>\n",
       "      <td>MVC</td>\n",
       "      <td>Software Engineering</td>\n",
       "    </tr>\n",
       "    <tr>\n",
       "      <th>API</th>\n",
       "      <td>API</td>\n",
       "      <td>Software Development Project</td>\n",
       "    </tr>\n",
       "    <tr>\n",
       "      <th>Networking</th>\n",
       "      <td>Networking</td>\n",
       "      <td>Computer Networks</td>\n",
       "    </tr>\n",
       "    <tr>\n",
       "      <th>Documentation</th>\n",
       "      <td>Documentation</td>\n",
       "      <td>Technical Writing and Presentations</td>\n",
       "    </tr>\n",
       "    <tr>\n",
       "      <th>Design Pattern</th>\n",
       "      <td>Design Pattern</td>\n",
       "      <td>Software Engineering</td>\n",
       "    </tr>\n",
       "    <tr>\n",
       "      <th>PHP</th>\n",
       "      <td>PHP</td>\n",
       "      <td>Software Development Project</td>\n",
       "    </tr>\n",
       "    <tr>\n",
       "      <th>Database</th>\n",
       "      <td>Database</td>\n",
       "      <td>Software Development Project</td>\n",
       "    </tr>\n",
       "    <tr>\n",
       "      <th>SQL</th>\n",
       "      <td>SQL</td>\n",
       "      <td>Software Development Project</td>\n",
       "    </tr>\n",
       "    <tr>\n",
       "      <th>JavaScript</th>\n",
       "      <td>JavaScript</td>\n",
       "      <td>Software Development Project</td>\n",
       "    </tr>\n",
       "    <tr>\n",
       "      <th>SEO</th>\n",
       "      <td>SEO</td>\n",
       "      <td>Software Development Project</td>\n",
       "    </tr>\n",
       "    <tr>\n",
       "      <th>Android</th>\n",
       "      <td>Android</td>\n",
       "      <td>Software Development Project</td>\n",
       "    </tr>\n",
       "    <tr>\n",
       "      <th>CSS</th>\n",
       "      <td>CSS</td>\n",
       "      <td>Software Development Project</td>\n",
       "    </tr>\n",
       "    <tr>\n",
       "      <th>Oracle</th>\n",
       "      <td>Oracle</td>\n",
       "      <td>Software Development Project</td>\n",
       "    </tr>\n",
       "    <tr>\n",
       "      <th>HTML</th>\n",
       "      <td>HTML</td>\n",
       "      <td>Software Development Project</td>\n",
       "    </tr>\n",
       "    <tr>\n",
       "      <th>MySQL</th>\n",
       "      <td>MySQL</td>\n",
       "      <td>Software Development Project</td>\n",
       "    </tr>\n",
       "    <tr>\n",
       "      <th>WordPress</th>\n",
       "      <td>WordPress</td>\n",
       "      <td>Software Development Project</td>\n",
       "    </tr>\n",
       "    <tr>\n",
       "      <th>Laravel</th>\n",
       "      <td>Laravel</td>\n",
       "      <td>Software Development Project</td>\n",
       "    </tr>\n",
       "    <tr>\n",
       "      <th>jQuery</th>\n",
       "      <td>jQuery</td>\n",
       "      <td>Software Development Project</td>\n",
       "    </tr>\n",
       "    <tr>\n",
       "      <th>iOS</th>\n",
       "      <td>iOS</td>\n",
       "      <td>Software Development Project</td>\n",
       "    </tr>\n",
       "    <tr>\n",
       "      <th>Bootstrap</th>\n",
       "      <td>Bootstrap</td>\n",
       "      <td>Software Development Project</td>\n",
       "    </tr>\n",
       "    <tr>\n",
       "      <th>AJAX</th>\n",
       "      <td>AJAX</td>\n",
       "      <td>Software Development Project</td>\n",
       "    </tr>\n",
       "    <tr>\n",
       "      <th>Angular</th>\n",
       "      <td>Angular</td>\n",
       "      <td>Software Development Project</td>\n",
       "    </tr>\n",
       "    <tr>\n",
       "      <th>SQL Server</th>\n",
       "      <td>SQL Server</td>\n",
       "      <td>Software Development Project</td>\n",
       "    </tr>\n",
       "    <tr>\n",
       "      <th>QA</th>\n",
       "      <td>QA</td>\n",
       "      <td>Software Development Project</td>\n",
       "    </tr>\n",
       "    <tr>\n",
       "      <th>Python</th>\n",
       "      <td>Python</td>\n",
       "      <td>AI</td>\n",
       "    </tr>\n",
       "    <tr>\n",
       "      <th>C#</th>\n",
       "      <td>C#</td>\n",
       "      <td>OOP</td>\n",
       "    </tr>\n",
       "    <tr>\n",
       "      <th>Git</th>\n",
       "      <td>Git</td>\n",
       "      <td>Software Development Project</td>\n",
       "    </tr>\n",
       "    <tr>\n",
       "      <th>React</th>\n",
       "      <td>React</td>\n",
       "      <td>Software Development Project</td>\n",
       "    </tr>\n",
       "    <tr>\n",
       "      <th>Networking</th>\n",
       "      <td>Networking</td>\n",
       "      <td>Computer Security</td>\n",
       "    </tr>\n",
       "    <tr>\n",
       "      <th>UI Design</th>\n",
       "      <td>UI Design</td>\n",
       "      <td>Software Development Project</td>\n",
       "    </tr>\n",
       "    <tr>\n",
       "      <th>Documentation</th>\n",
       "      <td>Documentation</td>\n",
       "      <td>Software Development Project</td>\n",
       "    </tr>\n",
       "    <tr>\n",
       "      <th>Design Pattern</th>\n",
       "      <td>Design Pattern</td>\n",
       "      <td>Software Development Project</td>\n",
       "    </tr>\n",
       "    <tr>\n",
       "      <th>Python</th>\n",
       "      <td>Python</td>\n",
       "      <td>Digital Signal Processing</td>\n",
       "    </tr>\n",
       "  </tbody>\n",
       "</table>\n",
       "</div>"
      ],
      "text/plain": [
       "                        Skills                               Course\n",
       "Skills                                                             \n",
       "Database              Database                             Database\n",
       "SQL                        SQL                             Database\n",
       "Android                Android                                  OOP\n",
       "Oracle                  Oracle                             Database\n",
       "MySQL                    MySQL                             Database\n",
       "C                            C               Structured Programming\n",
       "JAVA                      JAVA                                  OOP\n",
       "Linux                    Linux                                   OS\n",
       "iOS                        iOS         Software Development Project\n",
       "OOP                        OOP                                  OOP\n",
       "ASP.NET                ASP.NET         Software Development Project\n",
       "SQL Server          SQL Server                             Database\n",
       "QA                          QA                 Software Engineering\n",
       "Photoshop            Photoshop                    Computer Graphics\n",
       "Illustrator        Illustrator                    Computer Graphics\n",
       "Python                  Python                     Machine Learning\n",
       "C#                          C#         Software Development Project\n",
       "ERP                        ERP                 Software Engineering\n",
       "aws                        aws                    Computer Networks\n",
       "MVC                        MVC                 Software Engineering\n",
       "API                        API         Software Development Project\n",
       "Networking          Networking                    Computer Networks\n",
       "Documentation    Documentation  Technical Writing and Presentations\n",
       "Design Pattern  Design Pattern                 Software Engineering\n",
       "PHP                        PHP         Software Development Project\n",
       "Database              Database         Software Development Project\n",
       "SQL                        SQL         Software Development Project\n",
       "JavaScript          JavaScript         Software Development Project\n",
       "SEO                        SEO         Software Development Project\n",
       "Android                Android         Software Development Project\n",
       "CSS                        CSS         Software Development Project\n",
       "Oracle                  Oracle         Software Development Project\n",
       "HTML                      HTML         Software Development Project\n",
       "MySQL                    MySQL         Software Development Project\n",
       "WordPress            WordPress         Software Development Project\n",
       "Laravel                Laravel         Software Development Project\n",
       "jQuery                  jQuery         Software Development Project\n",
       "iOS                        iOS         Software Development Project\n",
       "Bootstrap            Bootstrap         Software Development Project\n",
       "AJAX                      AJAX         Software Development Project\n",
       "Angular                Angular         Software Development Project\n",
       "SQL Server          SQL Server         Software Development Project\n",
       "QA                          QA         Software Development Project\n",
       "Python                  Python                                   AI\n",
       "C#                          C#                                  OOP\n",
       "Git                        Git         Software Development Project\n",
       "React                    React         Software Development Project\n",
       "Networking          Networking                    Computer Security\n",
       "UI Design            UI Design         Software Development Project\n",
       "Documentation    Documentation         Software Development Project\n",
       "Design Pattern  Design Pattern         Software Development Project\n",
       "Python                  Python            Digital Signal Processing"
      ]
     },
     "execution_count": 131,
     "metadata": {},
     "output_type": "execute_result"
    }
   ],
   "source": [
    "map_df"
   ]
  },
  {
   "cell_type": "code",
   "execution_count": 12,
   "id": "c50908e1",
   "metadata": {
    "ExecuteTime": {
     "end_time": "2022-01-27T06:29:23.415943Z",
     "start_time": "2022-01-27T06:29:23.364745Z"
    },
    "scrolled": true
   },
   "outputs": [
    {
     "name": "stdout",
     "output_type": "stream",
     "text": [
      "Database Database\n",
      "SQL Database\n",
      "Android OOP\n",
      "Oracle Database\n",
      "MySQL Database\n",
      "C Structured Programming\n",
      "JAVA OOP\n",
      "Linux OS\n",
      "iOS Software Development Project\n",
      "OOP OOP\n",
      "ASP.NET Software Development Project\n",
      "SQL Server Database\n",
      "QA Software Engineering\n",
      "Photoshop Computer Graphics\n",
      "Illustrator Computer Graphics\n",
      "Python Machine Learning\n",
      "C# Software Development Project\n",
      "ERP Software Engineering\n",
      "aws Computer Networks\n",
      "MVC Software Engineering\n",
      "API Software Development Project\n",
      "Networking Computer Networks\n",
      "Documentation Technical Writing and Presentations\n",
      "Design Pattern Software Engineering\n",
      "PHP Software Development Project\n",
      "Database Software Development Project\n",
      "SQL Software Development Project\n",
      "JavaScript Software Development Project\n",
      "SEO Software Development Project\n",
      "Android Software Development Project\n",
      "CSS Software Development Project\n",
      "Oracle Software Development Project\n",
      "HTML Software Development Project\n",
      "MySQL Software Development Project\n",
      "WordPress Software Development Project\n",
      "Laravel Software Development Project\n",
      "jQuery Software Development Project\n",
      "iOS Software Development Project\n",
      "Bootstrap Software Development Project\n",
      "AJAX Software Development Project\n",
      "Angular Software Development Project\n",
      "SQL Server Software Development Project\n",
      "QA Software Development Project\n",
      "Python AI\n",
      "C# OOP\n",
      "Git Software Development Project\n",
      "React Software Development Project\n",
      "Networking Computer Security\n",
      "UI Design Software Development Project\n",
      "Documentation Software Development Project\n",
      "Design Pattern Software Development Project\n",
      "Python Digital Signal Processing\n"
     ]
    }
   ],
   "source": [
    "for skill,course in zip(map_df.index,map_df.Course):\n",
    "    print(skill,course)\n",
    "    course_importance.loc[course,:] += skill_df.loc[skill,:]\n",
    "    course_count.loc[course,:] += 1    "
   ]
  },
  {
   "cell_type": "code",
   "execution_count": 13,
   "id": "bf20d809",
   "metadata": {
    "ExecuteTime": {
     "end_time": "2022-01-27T06:29:26.193692Z",
     "start_time": "2022-01-27T06:29:26.186091Z"
    }
   },
   "outputs": [
    {
     "data": {
      "text/html": [
       "<div>\n",
       "<style scoped>\n",
       "    .dataframe tbody tr th:only-of-type {\n",
       "        vertical-align: middle;\n",
       "    }\n",
       "\n",
       "    .dataframe tbody tr th {\n",
       "        vertical-align: top;\n",
       "    }\n",
       "\n",
       "    .dataframe thead th {\n",
       "        text-align: right;\n",
       "    }\n",
       "</style>\n",
       "<table border=\"1\" class=\"dataframe\">\n",
       "  <thead>\n",
       "    <tr style=\"text-align: right;\">\n",
       "      <th></th>\n",
       "      <th>2016</th>\n",
       "      <th>2017</th>\n",
       "      <th>2018</th>\n",
       "      <th>2019</th>\n",
       "      <th>2020</th>\n",
       "      <th>2021</th>\n",
       "    </tr>\n",
       "  </thead>\n",
       "  <tbody>\n",
       "    <tr>\n",
       "      <th>Technical Writing and Presentations</th>\n",
       "      <td>12.774451</td>\n",
       "      <td>12.654437</td>\n",
       "      <td>12.114695</td>\n",
       "      <td>12.867899</td>\n",
       "      <td>13.205072</td>\n",
       "      <td>14.986124</td>\n",
       "    </tr>\n",
       "    <tr>\n",
       "      <th>OOP</th>\n",
       "      <td>32.455090</td>\n",
       "      <td>29.764133</td>\n",
       "      <td>26.308244</td>\n",
       "      <td>28.336756</td>\n",
       "      <td>30.738959</td>\n",
       "      <td>30.958989</td>\n",
       "    </tr>\n",
       "    <tr>\n",
       "      <th>Machine Learning</th>\n",
       "      <td>1.676647</td>\n",
       "      <td>1.871958</td>\n",
       "      <td>1.863799</td>\n",
       "      <td>2.840520</td>\n",
       "      <td>2.623524</td>\n",
       "      <td>3.453592</td>\n",
       "    </tr>\n",
       "    <tr>\n",
       "      <th>Software Engineering</th>\n",
       "      <td>31.936128</td>\n",
       "      <td>33.695245</td>\n",
       "      <td>25.483871</td>\n",
       "      <td>30.937714</td>\n",
       "      <td>32.706603</td>\n",
       "      <td>35.615171</td>\n",
       "    </tr>\n",
       "    <tr>\n",
       "      <th>Structured Programming</th>\n",
       "      <td>1.277445</td>\n",
       "      <td>1.198053</td>\n",
       "      <td>1.003584</td>\n",
       "      <td>0.821355</td>\n",
       "      <td>0.437254</td>\n",
       "      <td>0.308356</td>\n",
       "    </tr>\n",
       "    <tr>\n",
       "      <th>Computer Graphics</th>\n",
       "      <td>10.299401</td>\n",
       "      <td>9.996256</td>\n",
       "      <td>9.784946</td>\n",
       "      <td>10.506502</td>\n",
       "      <td>8.264101</td>\n",
       "      <td>6.012951</td>\n",
       "    </tr>\n",
       "    <tr>\n",
       "      <th>Computer Networks</th>\n",
       "      <td>22.075848</td>\n",
       "      <td>19.955073</td>\n",
       "      <td>18.028674</td>\n",
       "      <td>20.260096</td>\n",
       "      <td>20.157411</td>\n",
       "      <td>22.232501</td>\n",
       "    </tr>\n",
       "    <tr>\n",
       "      <th>OS</th>\n",
       "      <td>4.870259</td>\n",
       "      <td>5.540996</td>\n",
       "      <td>3.942652</td>\n",
       "      <td>4.004107</td>\n",
       "      <td>4.766069</td>\n",
       "      <td>4.070305</td>\n",
       "    </tr>\n",
       "    <tr>\n",
       "      <th>Digital Signal Processing</th>\n",
       "      <td>1.676647</td>\n",
       "      <td>1.871958</td>\n",
       "      <td>1.863799</td>\n",
       "      <td>2.840520</td>\n",
       "      <td>2.623524</td>\n",
       "      <td>3.453592</td>\n",
       "    </tr>\n",
       "    <tr>\n",
       "      <th>Computer Security</th>\n",
       "      <td>21.197605</td>\n",
       "      <td>18.906776</td>\n",
       "      <td>16.451613</td>\n",
       "      <td>18.446270</td>\n",
       "      <td>17.271535</td>\n",
       "      <td>18.994758</td>\n",
       "    </tr>\n",
       "    <tr>\n",
       "      <th>Database</th>\n",
       "      <td>60.598802</td>\n",
       "      <td>54.361662</td>\n",
       "      <td>47.455197</td>\n",
       "      <td>51.779603</td>\n",
       "      <td>54.438129</td>\n",
       "      <td>55.288313</td>\n",
       "    </tr>\n",
       "    <tr>\n",
       "      <th>Software Development Project</th>\n",
       "      <td>316.806387</td>\n",
       "      <td>302.433545</td>\n",
       "      <td>266.845878</td>\n",
       "      <td>290.485969</td>\n",
       "      <td>325.098382</td>\n",
       "      <td>316.312057</td>\n",
       "    </tr>\n",
       "    <tr>\n",
       "      <th>AI</th>\n",
       "      <td>1.676647</td>\n",
       "      <td>1.871958</td>\n",
       "      <td>1.863799</td>\n",
       "      <td>2.840520</td>\n",
       "      <td>2.623524</td>\n",
       "      <td>3.453592</td>\n",
       "    </tr>\n",
       "  </tbody>\n",
       "</table>\n",
       "</div>"
      ],
      "text/plain": [
       "                                           2016        2017        2018  \\\n",
       "Technical Writing and Presentations   12.774451   12.654437   12.114695   \n",
       "OOP                                   32.455090   29.764133   26.308244   \n",
       "Machine Learning                       1.676647    1.871958    1.863799   \n",
       "Software Engineering                  31.936128   33.695245   25.483871   \n",
       "Structured Programming                 1.277445    1.198053    1.003584   \n",
       "Computer Graphics                     10.299401    9.996256    9.784946   \n",
       "Computer Networks                     22.075848   19.955073   18.028674   \n",
       "OS                                     4.870259    5.540996    3.942652   \n",
       "Digital Signal Processing              1.676647    1.871958    1.863799   \n",
       "Computer Security                     21.197605   18.906776   16.451613   \n",
       "Database                              60.598802   54.361662   47.455197   \n",
       "Software Development Project         316.806387  302.433545  266.845878   \n",
       "AI                                     1.676647    1.871958    1.863799   \n",
       "\n",
       "                                           2019        2020        2021  \n",
       "Technical Writing and Presentations   12.867899   13.205072   14.986124  \n",
       "OOP                                   28.336756   30.738959   30.958989  \n",
       "Machine Learning                       2.840520    2.623524    3.453592  \n",
       "Software Engineering                  30.937714   32.706603   35.615171  \n",
       "Structured Programming                 0.821355    0.437254    0.308356  \n",
       "Computer Graphics                     10.506502    8.264101    6.012951  \n",
       "Computer Networks                     20.260096   20.157411   22.232501  \n",
       "OS                                     4.004107    4.766069    4.070305  \n",
       "Digital Signal Processing              2.840520    2.623524    3.453592  \n",
       "Computer Security                     18.446270   17.271535   18.994758  \n",
       "Database                              51.779603   54.438129   55.288313  \n",
       "Software Development Project         290.485969  325.098382  316.312057  \n",
       "AI                                     2.840520    2.623524    3.453592  "
      ]
     },
     "execution_count": 13,
     "metadata": {},
     "output_type": "execute_result"
    }
   ],
   "source": [
    "course_importance"
   ]
  },
  {
   "cell_type": "code",
   "execution_count": 14,
   "id": "13a51214",
   "metadata": {
    "ExecuteTime": {
     "end_time": "2022-01-27T06:29:28.125299Z",
     "start_time": "2022-01-27T06:29:28.122451Z"
    }
   },
   "outputs": [],
   "source": [
    "course_importance = course_importance / course_count"
   ]
  },
  {
   "cell_type": "code",
   "execution_count": 15,
   "id": "a644519c",
   "metadata": {
    "ExecuteTime": {
     "end_time": "2022-01-27T06:29:28.435607Z",
     "start_time": "2022-01-27T06:29:28.433234Z"
    }
   },
   "outputs": [],
   "source": [
    "course_importance = course_importance.loc[:,['2021']]"
   ]
  },
  {
   "cell_type": "code",
   "execution_count": 16,
   "id": "2ed1b133",
   "metadata": {
    "ExecuteTime": {
     "end_time": "2022-01-27T06:29:28.722134Z",
     "start_time": "2022-01-27T06:29:28.716331Z"
    }
   },
   "outputs": [],
   "source": [
    "melted = course_importance.melt(var_name='Year',value_name='Weight',ignore_index=False)\n",
    "# melted = melted.reset_index()"
   ]
  },
  {
   "cell_type": "code",
   "execution_count": 17,
   "id": "5b1b6cf5",
   "metadata": {
    "ExecuteTime": {
     "end_time": "2022-01-27T06:29:29.380213Z",
     "start_time": "2022-01-27T06:29:29.371553Z"
    }
   },
   "outputs": [],
   "source": [
    "melted = melted.groupby('Year')['Weight'].nlargest(5)"
   ]
  },
  {
   "cell_type": "code",
   "execution_count": 18,
   "id": "50ca5cba",
   "metadata": {
    "ExecuteTime": {
     "end_time": "2022-01-27T06:29:29.927364Z",
     "start_time": "2022-01-27T06:29:29.924289Z"
    }
   },
   "outputs": [],
   "source": [
    "melted = melted.reset_index()"
   ]
  },
  {
   "cell_type": "code",
   "execution_count": 24,
   "id": "7e5de838",
   "metadata": {
    "ExecuteTime": {
     "end_time": "2022-01-27T06:32:36.921353Z",
     "start_time": "2022-01-27T06:32:36.912231Z"
    }
   },
   "outputs": [
    {
     "data": {
      "text/html": [
       "<div>\n",
       "<style scoped>\n",
       "    .dataframe tbody tr th:only-of-type {\n",
       "        vertical-align: middle;\n",
       "    }\n",
       "\n",
       "    .dataframe tbody tr th {\n",
       "        vertical-align: top;\n",
       "    }\n",
       "\n",
       "    .dataframe thead th {\n",
       "        text-align: right;\n",
       "    }\n",
       "</style>\n",
       "<table border=\"1\" class=\"dataframe\">\n",
       "  <thead>\n",
       "    <tr style=\"text-align: right;\">\n",
       "      <th></th>\n",
       "      <th>index</th>\n",
       "      <th>2021</th>\n",
       "      <th>Year</th>\n",
       "    </tr>\n",
       "  </thead>\n",
       "  <tbody>\n",
       "    <tr>\n",
       "      <th>0</th>\n",
       "      <td>Technical Writing and Presentations</td>\n",
       "      <td>14.986124</td>\n",
       "      <td>2021</td>\n",
       "    </tr>\n",
       "    <tr>\n",
       "      <th>1</th>\n",
       "      <td>OOP</td>\n",
       "      <td>7.739747</td>\n",
       "      <td>2021</td>\n",
       "    </tr>\n",
       "    <tr>\n",
       "      <th>2</th>\n",
       "      <td>Machine Learning</td>\n",
       "      <td>3.453592</td>\n",
       "      <td>2021</td>\n",
       "    </tr>\n",
       "    <tr>\n",
       "      <th>3</th>\n",
       "      <td>Software Engineering</td>\n",
       "      <td>8.903793</td>\n",
       "      <td>2021</td>\n",
       "    </tr>\n",
       "    <tr>\n",
       "      <th>4</th>\n",
       "      <td>Structured Programming</td>\n",
       "      <td>0.308356</td>\n",
       "      <td>2021</td>\n",
       "    </tr>\n",
       "    <tr>\n",
       "      <th>5</th>\n",
       "      <td>Computer Graphics</td>\n",
       "      <td>3.006475</td>\n",
       "      <td>2021</td>\n",
       "    </tr>\n",
       "    <tr>\n",
       "      <th>6</th>\n",
       "      <td>Computer Networks</td>\n",
       "      <td>11.116250</td>\n",
       "      <td>2021</td>\n",
       "    </tr>\n",
       "    <tr>\n",
       "      <th>7</th>\n",
       "      <td>OS</td>\n",
       "      <td>4.070305</td>\n",
       "      <td>2021</td>\n",
       "    </tr>\n",
       "    <tr>\n",
       "      <th>8</th>\n",
       "      <td>Digital Signal Processing</td>\n",
       "      <td>3.453592</td>\n",
       "      <td>2021</td>\n",
       "    </tr>\n",
       "    <tr>\n",
       "      <th>9</th>\n",
       "      <td>Computer Security</td>\n",
       "      <td>18.994758</td>\n",
       "      <td>2021</td>\n",
       "    </tr>\n",
       "    <tr>\n",
       "      <th>10</th>\n",
       "      <td>Database</td>\n",
       "      <td>11.057663</td>\n",
       "      <td>2021</td>\n",
       "    </tr>\n",
       "    <tr>\n",
       "      <th>11</th>\n",
       "      <td>Software Development Project</td>\n",
       "      <td>11.296859</td>\n",
       "      <td>2021</td>\n",
       "    </tr>\n",
       "    <tr>\n",
       "      <th>12</th>\n",
       "      <td>AI</td>\n",
       "      <td>3.453592</td>\n",
       "      <td>2021</td>\n",
       "    </tr>\n",
       "  </tbody>\n",
       "</table>\n",
       "</div>"
      ],
      "text/plain": [
       "                                  index       2021  Year\n",
       "0   Technical Writing and Presentations  14.986124  2021\n",
       "1                                   OOP   7.739747  2021\n",
       "2                      Machine Learning   3.453592  2021\n",
       "3                  Software Engineering   8.903793  2021\n",
       "4                Structured Programming   0.308356  2021\n",
       "5                     Computer Graphics   3.006475  2021\n",
       "6                     Computer Networks  11.116250  2021\n",
       "7                                    OS   4.070305  2021\n",
       "8             Digital Signal Processing   3.453592  2021\n",
       "9                     Computer Security  18.994758  2021\n",
       "10                             Database  11.057663  2021\n",
       "11         Software Development Project  11.296859  2021\n",
       "12                                   AI   3.453592  2021"
      ]
     },
     "execution_count": 24,
     "metadata": {},
     "output_type": "execute_result"
    }
   ],
   "source": [
    "course_importance = course_importance.reset_index()\n",
    "course_importance['Year'] = 2021\n",
    "course_importance"
   ]
  },
  {
   "cell_type": "code",
   "execution_count": 34,
   "id": "3192f3b9",
   "metadata": {
    "ExecuteTime": {
     "end_time": "2022-01-27T06:35:34.573370Z",
     "start_time": "2022-01-27T06:35:34.385181Z"
    }
   },
   "outputs": [
    {
     "data": {
      "image/png": "[encoded data removed]",
      "text/plain": [
       "<Figure size 864x864 with 1 Axes>"
      ]
     },
     "metadata": {},
     "output_type": "display_data"
    }
   ],
   "source": [
    "# melted = melted.rename({'level_1':'Course'},axis=1)\n",
    "plt.style.use('ggplot')\n",
    "\n",
    "# course_importance.sort_values('2021',ascending=False)[:5].plot(kind='bar',color='b')\n",
    "sns.barplot(x='Year',y='2021',hue='index',data=course_importance.sort_values('2021',ascending=False)[:5])\n",
    "plt.xticks([])\n",
    "plt.xlabel(None)\n",
    "plt.yticks(fontsize=20)\n",
    "plt.ylabel('weight',fontsize=20)\n",
    "plt.legend(fontsize=20)\n",
    "\n",
    "plt.tight_layout()\n",
    "plt.savefig('../G11.png')"
   ]
  },
  {
   "cell_type": "code",
   "execution_count": 36,
   "id": "38c7d778",
   "metadata": {
    "ExecuteTime": {
     "end_time": "2022-01-21T19:12:06.415297Z",
     "start_time": "2022-01-21T19:12:06.406797Z"
    }
   },
   "outputs": [
    {
     "ename": "ValueError",
     "evalue": "Could not interpret input 'Course'",
     "output_type": "error",
     "traceback": [
      "\u001b[0;31m---------------------------------------------------------------------------\u001b[0m",
      "\u001b[0;31mValueError\u001b[0m                                Traceback (most recent call last)",
      "\u001b[0;32m<ipython-input-36-9929a465778d>\u001b[0m in \u001b[0;36m<module>\u001b[0;34m\u001b[0m\n\u001b[1;32m      1\u001b[0m \u001b[0mplt\u001b[0m\u001b[0;34m.\u001b[0m\u001b[0mstyle\u001b[0m\u001b[0;34m.\u001b[0m\u001b[0muse\u001b[0m\u001b[0;34m(\u001b[0m\u001b[0;34m'ggplot'\u001b[0m\u001b[0;34m)\u001b[0m\u001b[0;34m\u001b[0m\u001b[0;34m\u001b[0m\u001b[0m\n\u001b[0;32m----> 2\u001b[0;31m \u001b[0msns\u001b[0m\u001b[0;34m.\u001b[0m\u001b[0mbarplot\u001b[0m\u001b[0;34m(\u001b[0m\u001b[0my\u001b[0m\u001b[0;34m=\u001b[0m\u001b[0;34m'2021'\u001b[0m\u001b[0;34m,\u001b[0m\u001b[0mhue\u001b[0m\u001b[0;34m=\u001b[0m\u001b[0;34m'Course'\u001b[0m\u001b[0;34m,\u001b[0m \u001b[0mdata\u001b[0m\u001b[0;34m=\u001b[0m\u001b[0mcourse_importance\u001b[0m\u001b[0;34m,\u001b[0m\u001b[0mpalette\u001b[0m\u001b[0;34m=\u001b[0m\u001b[0;34m'tab10'\u001b[0m\u001b[0;34m)\u001b[0m\u001b[0;34m\u001b[0m\u001b[0;34m\u001b[0m\u001b[0m\n\u001b[0m\u001b[1;32m      3\u001b[0m \u001b[0;31m# plt.savefig('../G11.png')\u001b[0m\u001b[0;34m\u001b[0m\u001b[0;34m\u001b[0m\u001b[0;34m\u001b[0m\u001b[0m\n",
      "\u001b[0;32m~/.conda/envs/Srj/lib/python3.8/site-packages/seaborn/_decorators.py\u001b[0m in \u001b[0;36minner_f\u001b[0;34m(*args, **kwargs)\u001b[0m\n\u001b[1;32m     44\u001b[0m             )\n\u001b[1;32m     45\u001b[0m         \u001b[0mkwargs\u001b[0m\u001b[0;34m.\u001b[0m\u001b[0mupdate\u001b[0m\u001b[0;34m(\u001b[0m\u001b[0;34m{\u001b[0m\u001b[0mk\u001b[0m\u001b[0;34m:\u001b[0m \u001b[0marg\u001b[0m \u001b[0;32mfor\u001b[0m \u001b[0mk\u001b[0m\u001b[0;34m,\u001b[0m \u001b[0marg\u001b[0m \u001b[0;32min\u001b[0m \u001b[0mzip\u001b[0m\u001b[0;34m(\u001b[0m\u001b[0msig\u001b[0m\u001b[0;34m.\u001b[0m\u001b[0mparameters\u001b[0m\u001b[0;34m,\u001b[0m \u001b[0margs\u001b[0m\u001b[0;34m)\u001b[0m\u001b[0;34m}\u001b[0m\u001b[0;34m)\u001b[0m\u001b[0;34m\u001b[0m\u001b[0;34m\u001b[0m\u001b[0m\n\u001b[0;32m---> 46\u001b[0;31m         \u001b[0;32mreturn\u001b[0m \u001b[0mf\u001b[0m\u001b[0;34m(\u001b[0m\u001b[0;34m**\u001b[0m\u001b[0mkwargs\u001b[0m\u001b[0;34m)\u001b[0m\u001b[0;34m\u001b[0m\u001b[0;34m\u001b[0m\u001b[0m\n\u001b[0m\u001b[1;32m     47\u001b[0m     \u001b[0;32mreturn\u001b[0m \u001b[0minner_f\u001b[0m\u001b[0;34m\u001b[0m\u001b[0;34m\u001b[0m\u001b[0m\n\u001b[1;32m     48\u001b[0m \u001b[0;34m\u001b[0m\u001b[0m\n",
      "\u001b[0;32m~/.conda/envs/Srj/lib/python3.8/site-packages/seaborn/categorical.py\u001b[0m in \u001b[0;36mbarplot\u001b[0;34m(x, y, hue, data, order, hue_order, estimator, ci, n_boot, units, seed, orient, color, palette, saturation, errcolor, errwidth, capsize, dodge, ax, **kwargs)\u001b[0m\n\u001b[1;32m   3177\u001b[0m ):\n\u001b[1;32m   3178\u001b[0m \u001b[0;34m\u001b[0m\u001b[0m\n\u001b[0;32m-> 3179\u001b[0;31m     plotter = _BarPlotter(x, y, hue, data, order, hue_order,\n\u001b[0m\u001b[1;32m   3180\u001b[0m                           \u001b[0mestimator\u001b[0m\u001b[0;34m,\u001b[0m \u001b[0mci\u001b[0m\u001b[0;34m,\u001b[0m \u001b[0mn_boot\u001b[0m\u001b[0;34m,\u001b[0m \u001b[0munits\u001b[0m\u001b[0;34m,\u001b[0m \u001b[0mseed\u001b[0m\u001b[0;34m,\u001b[0m\u001b[0;34m\u001b[0m\u001b[0;34m\u001b[0m\u001b[0m\n\u001b[1;32m   3181\u001b[0m                           \u001b[0morient\u001b[0m\u001b[0;34m,\u001b[0m \u001b[0mcolor\u001b[0m\u001b[0;34m,\u001b[0m \u001b[0mpalette\u001b[0m\u001b[0;34m,\u001b[0m \u001b[0msaturation\u001b[0m\u001b[0;34m,\u001b[0m\u001b[0;34m\u001b[0m\u001b[0;34m\u001b[0m\u001b[0m\n",
      "\u001b[0;32m~/.conda/envs/Srj/lib/python3.8/site-packages/seaborn/categorical.py\u001b[0m in \u001b[0;36m__init__\u001b[0;34m(self, x, y, hue, data, order, hue_order, estimator, ci, n_boot, units, seed, orient, color, palette, saturation, errcolor, errwidth, capsize, dodge)\u001b[0m\n\u001b[1;32m   1582\u001b[0m                  errwidth, capsize, dodge):\n\u001b[1;32m   1583\u001b[0m         \u001b[0;34m\"\"\"Initialize the plotter.\"\"\"\u001b[0m\u001b[0;34m\u001b[0m\u001b[0;34m\u001b[0m\u001b[0m\n\u001b[0;32m-> 1584\u001b[0;31m         self.establish_variables(x, y, hue, data, orient,\n\u001b[0m\u001b[1;32m   1585\u001b[0m                                  order, hue_order, units)\n\u001b[1;32m   1586\u001b[0m         \u001b[0mself\u001b[0m\u001b[0;34m.\u001b[0m\u001b[0mestablish_colors\u001b[0m\u001b[0;34m(\u001b[0m\u001b[0mcolor\u001b[0m\u001b[0;34m,\u001b[0m \u001b[0mpalette\u001b[0m\u001b[0;34m,\u001b[0m \u001b[0msaturation\u001b[0m\u001b[0;34m)\u001b[0m\u001b[0;34m\u001b[0m\u001b[0;34m\u001b[0m\u001b[0m\n",
      "\u001b[0;32m~/.conda/envs/Srj/lib/python3.8/site-packages/seaborn/categorical.py\u001b[0m in \u001b[0;36mestablish_variables\u001b[0;34m(self, x, y, hue, data, orient, order, hue_order, units)\u001b[0m\n\u001b[1;32m    151\u001b[0m                 \u001b[0;32mif\u001b[0m \u001b[0misinstance\u001b[0m\u001b[0;34m(\u001b[0m\u001b[0mvar\u001b[0m\u001b[0;34m,\u001b[0m \u001b[0mstr\u001b[0m\u001b[0;34m)\u001b[0m\u001b[0;34m:\u001b[0m\u001b[0;34m\u001b[0m\u001b[0;34m\u001b[0m\u001b[0m\n\u001b[1;32m    152\u001b[0m                     \u001b[0merr\u001b[0m \u001b[0;34m=\u001b[0m \u001b[0;34m\"Could not interpret input '{}'\"\u001b[0m\u001b[0;34m.\u001b[0m\u001b[0mformat\u001b[0m\u001b[0;34m(\u001b[0m\u001b[0mvar\u001b[0m\u001b[0;34m)\u001b[0m\u001b[0;34m\u001b[0m\u001b[0;34m\u001b[0m\u001b[0m\n\u001b[0;32m--> 153\u001b[0;31m                     \u001b[0;32mraise\u001b[0m \u001b[0mValueError\u001b[0m\u001b[0;34m(\u001b[0m\u001b[0merr\u001b[0m\u001b[0;34m)\u001b[0m\u001b[0;34m\u001b[0m\u001b[0;34m\u001b[0m\u001b[0m\n\u001b[0m\u001b[1;32m    154\u001b[0m \u001b[0;34m\u001b[0m\u001b[0m\n\u001b[1;32m    155\u001b[0m             \u001b[0;31m# Figure out the plotting orientation\u001b[0m\u001b[0;34m\u001b[0m\u001b[0;34m\u001b[0m\u001b[0;34m\u001b[0m\u001b[0m\n",
      "\u001b[0;31mValueError\u001b[0m: Could not interpret input 'Course'"
     ]
    }
   ],
   "source": [
    "plt.style.use('ggplot')\n",
    "sns.barplot(y='2021',hue='Course', data=course_importance,palette='tab10')\n",
    "# plt.savefig('../G11.png')"
   ]
  },
  {
   "cell_type": "code",
   "execution_count": null,
   "id": "eff18c55",
   "metadata": {
    "ExecuteTime": {
     "end_time": "2022-01-21T14:40:55.147708Z",
     "start_time": "2022-01-21T14:40:53.940Z"
    }
   },
   "outputs": [],
   "source": [
    "imp_series = melted.groupby(['Course Name'])['Weight'].mean()"
   ]
  },
  {
   "cell_type": "code",
   "execution_count": null,
   "id": "11a7b02e",
   "metadata": {
    "ExecuteTime": {
     "end_time": "2022-01-21T14:40:55.148376Z",
     "start_time": "2022-01-21T14:40:53.942Z"
    }
   },
   "outputs": [],
   "source": [
    "course_df = course_df.iloc[:,:6]\n",
    "course_df"
   ]
  },
  {
   "cell_type": "code",
   "execution_count": null,
   "id": "f050569e",
   "metadata": {
    "ExecuteTime": {
     "end_time": "2022-01-21T14:40:55.148961Z",
     "start_time": "2022-01-21T14:40:53.942Z"
    }
   },
   "outputs": [],
   "source": [
    "required_course = set(map_df['Course'])"
   ]
  },
  {
   "cell_type": "code",
   "execution_count": null,
   "id": "70bbab97",
   "metadata": {
    "ExecuteTime": {
     "end_time": "2022-01-21T14:40:55.149509Z",
     "start_time": "2022-01-21T14:40:53.943Z"
    }
   },
   "outputs": [],
   "source": [
    "required_course"
   ]
  },
  {
   "cell_type": "code",
   "execution_count": null,
   "id": "3a138e75",
   "metadata": {
    "ExecuteTime": {
     "end_time": "2022-01-21T14:40:55.150120Z",
     "start_time": "2022-01-21T14:40:53.944Z"
    }
   },
   "outputs": [],
   "source": [
    "institute_df = pd.DataFrame(index=course_df.columns,columns=skill_df.columns).fillna(0)"
   ]
  },
  {
   "cell_type": "code",
   "execution_count": null,
   "id": "9e0c5cae",
   "metadata": {
    "ExecuteTime": {
     "end_time": "2022-01-21T14:40:55.150591Z",
     "start_time": "2022-01-21T14:40:53.945Z"
    }
   },
   "outputs": [],
   "source": [
    "course_df"
   ]
  },
  {
   "cell_type": "code",
   "execution_count": null,
   "id": "e34d87c1",
   "metadata": {
    "ExecuteTime": {
     "end_time": "2022-01-21T14:40:55.151006Z",
     "start_time": "2022-01-21T14:40:53.946Z"
    },
    "scrolled": true
   },
   "outputs": [],
   "source": [
    "course_df.index = course_df['Course Name']"
   ]
  },
  {
   "cell_type": "code",
   "execution_count": null,
   "id": "351d7216",
   "metadata": {
    "ExecuteTime": {
     "end_time": "2022-01-21T14:40:55.151584Z",
     "start_time": "2022-01-21T14:40:53.947Z"
    }
   },
   "outputs": [],
   "source": [
    "course_df = course_df.drop(['Course Name'],axis=1)"
   ]
  },
  {
   "cell_type": "code",
   "execution_count": null,
   "id": "c4dd6453",
   "metadata": {
    "ExecuteTime": {
     "end_time": "2022-01-21T14:40:55.151981Z",
     "start_time": "2022-01-21T14:40:53.948Z"
    }
   },
   "outputs": [],
   "source": [
    "course_df[course_df != 0] = 1"
   ]
  },
  {
   "cell_type": "code",
   "execution_count": null,
   "id": "2b136023",
   "metadata": {
    "ExecuteTime": {
     "end_time": "2022-01-21T14:40:55.152456Z",
     "start_time": "2022-01-21T14:40:53.949Z"
    }
   },
   "outputs": [],
   "source": [
    "for i in range(len(course_df)):\n",
    "    course_df.iloc[i,:] = course_df.iloc[i,:] * imp_series[course_df.index[i]]"
   ]
  },
  {
   "cell_type": "code",
   "execution_count": null,
   "id": "0e42754c",
   "metadata": {
    "ExecuteTime": {
     "end_time": "2022-01-21T14:40:55.152844Z",
     "start_time": "2022-01-21T14:40:53.950Z"
    }
   },
   "outputs": [],
   "source": [
    "course_df.loc[list(required_course),:].sum(axis=0).sort_values(ascending=False)"
   ]
  },
  {
   "cell_type": "code",
   "execution_count": null,
   "id": "5bc2af25",
   "metadata": {
    "ExecuteTime": {
     "end_time": "2022-01-21T14:40:55.153369Z",
     "start_time": "2022-01-21T14:40:53.951Z"
    }
   },
   "outputs": [],
   "source": [
    "(course_df.loc[list(required_course),:].sum(axis=0)/len(required_course) *100).sort_values(ascending=False).plot.bar()\n",
    "# (course_df.loc[list(required_course),:].sum(axis=0)).sort_values(ascending=False).plot.bar()\n",
    "plt.title('Percentage of Required Courses Covered by University')\n",
    "\n",
    "plt.savefig('../G2.png')"
   ]
  },
  {
   "cell_type": "code",
   "execution_count": null,
   "id": "ff7231df",
   "metadata": {
    "ExecuteTime": {
     "end_time": "2022-01-21T14:40:55.153843Z",
     "start_time": "2022-01-21T14:40:53.952Z"
    }
   },
   "outputs": [],
   "source": [
    "temp = course_df.loc[list(required_course),:]\n",
    "# for col in institute_df.columns:\n",
    "#     institute_df"
   ]
  },
  {
   "cell_type": "code",
   "execution_count": null,
   "id": "3b7b7b69",
   "metadata": {
    "ExecuteTime": {
     "end_time": "2022-01-21T14:40:55.154284Z",
     "start_time": "2022-01-21T14:40:53.953Z"
    }
   },
   "outputs": [],
   "source": [
    "course_df"
   ]
  },
  {
   "cell_type": "code",
   "execution_count": null,
   "id": "c4fe4f03",
   "metadata": {
    "ExecuteTime": {
     "end_time": "2022-01-21T14:40:55.154726Z",
     "start_time": "2022-01-21T14:40:53.954Z"
    }
   },
   "outputs": [],
   "source": [
    "not_utilized = course_df.copy()"
   ]
  },
  {
   "cell_type": "code",
   "execution_count": null,
   "id": "12284e26",
   "metadata": {
    "ExecuteTime": {
     "end_time": "2022-01-21T14:40:55.155123Z",
     "start_time": "2022-01-21T14:40:53.955Z"
    }
   },
   "outputs": [],
   "source": [
    "not_utilized[:] = 0"
   ]
  },
  {
   "cell_type": "code",
   "execution_count": null,
   "id": "7ca5e80c",
   "metadata": {
    "ExecuteTime": {
     "end_time": "2022-01-21T14:40:55.155606Z",
     "start_time": "2022-01-21T14:40:53.956Z"
    }
   },
   "outputs": [],
   "source": [
    "not_utilized.loc[list(required_course),:] = 1"
   ]
  },
  {
   "cell_type": "code",
   "execution_count": null,
   "id": "2e9768fa",
   "metadata": {
    "ExecuteTime": {
     "end_time": "2022-01-21T14:40:55.156024Z",
     "start_time": "2022-01-21T14:40:53.957Z"
    }
   },
   "outputs": [],
   "source": [
    "(not_utilized == 0).sum()"
   ]
  },
  {
   "cell_type": "code",
   "execution_count": null,
   "id": "25fdf996",
   "metadata": {
    "ExecuteTime": {
     "end_time": "2022-01-21T14:40:55.156840Z",
     "start_time": "2022-01-21T14:40:53.957Z"
    }
   },
   "outputs": [],
   "source": [
    "not_utilized.sum(axis=0)"
   ]
  },
  {
   "cell_type": "code",
   "execution_count": null,
   "id": "37b8e2cc",
   "metadata": {
    "ExecuteTime": {
     "end_time": "2022-01-21T14:40:55.157669Z",
     "start_time": "2022-01-21T14:40:53.958Z"
    }
   },
   "outputs": [],
   "source": [
    "(not_utilized.loc[list(required_course),:].sum(axis=0) / not_utilized.sum(axis=0) * 100).sort_values(ascending=False).plot.bar()\n",
    "plt.title('Percentage of Course Not Required in Industry')\n",
    "plt.savefig('../G3.png')"
   ]
  },
  {
   "cell_type": "code",
   "execution_count": null,
   "id": "578aec88",
   "metadata": {},
   "outputs": [],
   "source": []
  }
 ],
 "metadata": {
  "kernelspec": {
   "display_name": "Python 3 (ipykernel)",
   "language": "python",
   "name": "python3"
  },
  "language_info": {
   "codemirror_mode": {
    "name": "ipython",
    "version": 3
   },
   "file_extension": ".py",
   "mimetype": "text/x-python",
   "name": "python",
   "nbconvert_exporter": "python",
   "pygments_lexer": "ipython3",
   "version": "3.8.10"
  },
  "toc": {
   "base_numbering": 1,
   "nav_menu": {},
   "number_sections": true,
   "sideBar": true,
   "skip_h1_title": false,
   "title_cell": "Table of Contents",
   "title_sidebar": "Contents",
   "toc_cell": false,
   "toc_position": {},
   "toc_section_display": true,
   "toc_window_display": false
  },
  "varInspector": {
   "cols": {
    "lenName": 16,
    "lenType": 16,
    "lenVar": 40
   },
   "kernels_config": {
    "python": {
     "delete_cmd_postfix": "",
     "delete_cmd_prefix": "del ",
     "library": "var_list.py",
     "varRefreshCmd": "print(var_dic_list())"
    },
    "r": {
     "delete_cmd_postfix": ") ",
     "delete_cmd_prefix": "rm(",
     "library": "var_list.r",
     "varRefreshCmd": "cat(var_dic_list()) "
    }
   },
   "types_to_exclude": [
    "module",
    "function",
    "builtin_function_or_method",
    "instance",
    "_Feature"
   ],
   "window_display": false
  }
 },
 "nbformat": 4,
 "nbformat_minor": 5
}
