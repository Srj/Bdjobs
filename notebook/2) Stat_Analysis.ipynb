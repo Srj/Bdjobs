{
 "cells": [
  {
   "cell_type": "markdown",
   "id": "6511a654",
   "metadata": {},
   "source": [
    "<h1>Import Packages</h1>"
   ]
  },
  {
   "cell_type": "code",
   "execution_count": 1,
   "id": "301624c7",
   "metadata": {},
   "outputs": [],
   "source": [
    "import pandas as pd\n",
    "import numpy as np\n",
    "import matplotlib.pyplot as plt\n",
    "import seaborn as sns\n",
    "import datetime\n",
    "import os\n",
    "\n",
    "plt.style.use('fivethirtyeight')\n",
    "sns.set()\n",
    "plt.rcParams['figure.figsize'] = (12,12)"
   ]
  },
  {
   "cell_type": "code",
   "execution_count": 2,
   "id": "740f282a",
   "metadata": {},
   "outputs": [],
   "source": [
    "GRAPH = '../result/Graphs'\n",
    "TABLE = '../result/Tables'\n",
    "DATA = '../data'\n",
    "VERSION = 10 #1: Merged All 2:Cleaned\n",
    "# os.listdir(DATA)"
   ]
  },
  {
   "cell_type": "markdown",
   "id": "fa2cf3eb",
   "metadata": {},
   "source": [
    "<h1>Load Pre-processed Data</h1>"
   ]
  },
  {
   "cell_type": "code",
   "execution_count": 3,
   "id": "4103d5aa",
   "metadata": {},
   "outputs": [
    {
     "data": {
      "text/plain": [
       "14307"
      ]
     },
     "execution_count": 3,
     "metadata": {},
     "output_type": "execute_result"
    }
   ],
   "source": [
    "df = pd.read_csv(os.path.join(DATA,'Dataset_v'+str(VERSION) + '.csv'))\n",
    "df['JobTitle'].nunique()"
   ]
  },
  {
   "cell_type": "markdown",
   "id": "ec4806e1",
   "metadata": {},
   "source": [
    "<h1>Employment Type</h1>\n",
    "\n"
   ]
  },
  {
   "cell_type": "code",
   "execution_count": 7,
   "id": "b1bf38f3",
   "metadata": {},
   "outputs": [
    {
     "data": {
      "text/html": [
       "<div>\n",
       "<style scoped>\n",
       "    .dataframe tbody tr th:only-of-type {\n",
       "        vertical-align: middle;\n",
       "    }\n",
       "\n",
       "    .dataframe tbody tr th {\n",
       "        vertical-align: top;\n",
       "    }\n",
       "\n",
       "    .dataframe thead th {\n",
       "        text-align: right;\n",
       "    }\n",
       "</style>\n",
       "<table border=\"1\" class=\"dataframe\">\n",
       "  <thead>\n",
       "    <tr style=\"text-align: right;\">\n",
       "      <th></th>\n",
       "      <th>mean</th>\n",
       "      <th>std</th>\n",
       "      <th>N</th>\n",
       "    </tr>\n",
       "    <tr>\n",
       "      <th>JobType</th>\n",
       "      <th></th>\n",
       "      <th></th>\n",
       "      <th></th>\n",
       "    </tr>\n",
       "  </thead>\n",
       "  <tbody>\n",
       "    <tr>\n",
       "      <th>Contract</th>\n",
       "      <td>0.042896</td>\n",
       "      <td>10.944079</td>\n",
       "      <td>1003</td>\n",
       "    </tr>\n",
       "    <tr>\n",
       "      <th>Freelance</th>\n",
       "      <td>0.008163</td>\n",
       "      <td>132.125481</td>\n",
       "      <td>14</td>\n",
       "    </tr>\n",
       "    <tr>\n",
       "      <th>FullTime</th>\n",
       "      <td>0.927318</td>\n",
       "      <td>7.126507</td>\n",
       "      <td>30173</td>\n",
       "    </tr>\n",
       "    <tr>\n",
       "      <th>Intern</th>\n",
       "      <td>0.011000</td>\n",
       "      <td>16.221511</td>\n",
       "      <td>161</td>\n",
       "    </tr>\n",
       "    <tr>\n",
       "      <th>PartTime</th>\n",
       "      <td>0.010609</td>\n",
       "      <td>11.517815</td>\n",
       "      <td>174</td>\n",
       "    </tr>\n",
       "  </tbody>\n",
       "</table>\n",
       "</div>"
      ],
      "text/plain": [
       "               mean         std      N\n",
       "JobType                               \n",
       "Contract   0.042896   10.944079   1003\n",
       "Freelance  0.008163  132.125481     14\n",
       "FullTime   0.927318    7.126507  30173\n",
       "Intern     0.011000   16.221511    161\n",
       "PartTime   0.010609   11.517815    174"
      ]
     },
     "execution_count": 7,
     "metadata": {},
     "output_type": "execute_result"
    }
   ],
   "source": [
    "emp_type_df = pd.DataFrame(df.groupby(['JobType'])['TotalVacancy'].sum()/df['TotalVacancy'].sum())\n",
    "emp_type_df.rename(columns={'TotalVacancy':'mean'},inplace=True)\n",
    "# emp_type_df['mean'] = df.groupby(['JobType'])['TotalVacancy'].mean()\n",
    "emp_type_df['std'] = df.groupby(['JobType'])['TotalVacancy'].std()\n",
    "emp_type_df['N'] = df.groupby(['JobType'])['TotalVacancy'].count()\n",
    "emp_type_df.to_csv(os.path.join(TABLE,'emp_type.csv'),float_format='%.3f')\n",
    "emp_type_df"
   ]
  },
  {
   "cell_type": "markdown",
   "id": "c991ef54",
   "metadata": {},
   "source": [
    "<h1>Position Level </h1>"
   ]
  },
  {
   "cell_type": "code",
   "execution_count": 20,
   "id": "8a15baa7",
   "metadata": {},
   "outputs": [
    {
     "data": {
      "text/html": [
       "<div>\n",
       "<style scoped>\n",
       "    .dataframe tbody tr th:only-of-type {\n",
       "        vertical-align: middle;\n",
       "    }\n",
       "\n",
       "    .dataframe tbody tr th {\n",
       "        vertical-align: top;\n",
       "    }\n",
       "\n",
       "    .dataframe thead th {\n",
       "        text-align: right;\n",
       "    }\n",
       "</style>\n",
       "<table border=\"1\" class=\"dataframe\">\n",
       "  <thead>\n",
       "    <tr style=\"text-align: right;\">\n",
       "      <th></th>\n",
       "      <th>mean</th>\n",
       "      <th>std</th>\n",
       "      <th>N</th>\n",
       "    </tr>\n",
       "    <tr>\n",
       "      <th>JobLevel</th>\n",
       "      <th></th>\n",
       "      <th></th>\n",
       "      <th></th>\n",
       "    </tr>\n",
       "  </thead>\n",
       "  <tbody>\n",
       "    <tr>\n",
       "      <th>Entry</th>\n",
       "      <td>0.431505</td>\n",
       "      <td>12.079188</td>\n",
       "      <td>11185</td>\n",
       "    </tr>\n",
       "    <tr>\n",
       "      <th>Entry, Mid</th>\n",
       "      <td>0.104703</td>\n",
       "      <td>6.595816</td>\n",
       "      <td>2711</td>\n",
       "    </tr>\n",
       "    <tr>\n",
       "      <th>Entry, Mid, Top</th>\n",
       "      <td>0.021357</td>\n",
       "      <td>19.338263</td>\n",
       "      <td>230</td>\n",
       "    </tr>\n",
       "    <tr>\n",
       "      <th>Entry, Top</th>\n",
       "      <td>0.000224</td>\n",
       "      <td>3.962323</td>\n",
       "      <td>5</td>\n",
       "    </tr>\n",
       "    <tr>\n",
       "      <th>Mid</th>\n",
       "      <td>0.364666</td>\n",
       "      <td>2.669774</td>\n",
       "      <td>14832</td>\n",
       "    </tr>\n",
       "    <tr>\n",
       "      <th>Mid, Top</th>\n",
       "      <td>0.049633</td>\n",
       "      <td>2.388420</td>\n",
       "      <td>1398</td>\n",
       "    </tr>\n",
       "    <tr>\n",
       "      <th>Top</th>\n",
       "      <td>0.027913</td>\n",
       "      <td>2.554865</td>\n",
       "      <td>1165</td>\n",
       "    </tr>\n",
       "  </tbody>\n",
       "</table>\n",
       "</div>"
      ],
      "text/plain": [
       "                     mean        std      N\n",
       "JobLevel                                   \n",
       "Entry            0.431505  12.079188  11185\n",
       "Entry, Mid       0.104703   6.595816   2711\n",
       "Entry, Mid, Top  0.021357  19.338263    230\n",
       "Entry, Top       0.000224   3.962323      5\n",
       "Mid              0.364666   2.669774  14832\n",
       "Mid, Top         0.049633   2.388420   1398\n",
       "Top              0.027913   2.554865   1165"
      ]
     },
     "execution_count": 20,
     "metadata": {},
     "output_type": "execute_result"
    }
   ],
   "source": [
    "pos_level_df = pd.DataFrame(df.groupby(['JobLevel'])['TotalVacancy'].sum()/df['TotalVacancy'].sum())\n",
    "pos_level_df.rename(columns={'TotalVacancy':'mean'},inplace=True)\n",
    "# pos_level_df['mean'] = df.groupby(['JobLevel'])['TotalVacancy'].mean()\n",
    "pos_level_df['std'] = df.groupby(['JobLevel'])['TotalVacancy'].std()\n",
    "pos_level_df['N'] = df.groupby(['JobLevel'])['TotalVacancy'].count()\n",
    "pos_level_df.to_csv(os.path.join(TABLE,'pos_level.csv'),float_format='%.3f')\n",
    "pos_level_df"
   ]
  },
  {
   "cell_type": "markdown",
   "id": "f86b2e22",
   "metadata": {},
   "source": [
    "<h1>Gender</h1>"
   ]
  },
  {
   "cell_type": "code",
   "execution_count": 21,
   "id": "5bd6dff3",
   "metadata": {},
   "outputs": [
    {
     "data": {
      "text/plain": [
       "Both male and female    18116\n",
       "Not Specified            8608\n",
       "Male only                4562\n",
       "Female only               240\n",
       "Name: Gender, dtype: int64"
      ]
     },
     "execution_count": 21,
     "metadata": {},
     "output_type": "execute_result"
    }
   ],
   "source": [
    "df['Gender'] = df['MaleGender'] + df['FemaleGender']\n",
    "df['Gender'] = df['Gender'].apply(lambda x : 'Both male and female' if x == 2 else x)\n",
    "df['Gender'] = df['Gender'].apply(lambda x : 'Not Specified' if x == 0 else x)\n",
    "for i in range(len(df)):\n",
    "    if df.loc[i,'Gender'] == 1:\n",
    "        if df.loc[i,'MaleGender'] == 1:\n",
    "            df.loc[i,'Gender'] = 'Male only'\n",
    "        else:\n",
    "            df.loc[i,'Gender'] = 'Female only'\n",
    "            \n",
    "df['Gender'].value_counts()"
   ]
  },
  {
   "cell_type": "code",
   "execution_count": 22,
   "id": "27f04956",
   "metadata": {},
   "outputs": [],
   "source": [
    "gender_df = pd.DataFrame(df.groupby(['Gender'])['TotalVacancy'].sum()/df['TotalVacancy'].sum())\n",
    "gender_df['N'] = df.groupby(['Gender'])['TotalVacancy'].count()\n",
    "gender_df.to_csv(os.path.join(TABLE,'gender.csv'),float_format='%.3f')"
   ]
  },
  {
   "cell_type": "markdown",
   "id": "2130a127",
   "metadata": {},
   "source": [
    "<h1>Industry </h1>"
   ]
  },
  {
   "cell_type": "code",
   "execution_count": 23,
   "id": "0b19167f",
   "metadata": {},
   "outputs": [],
   "source": [
    "top_industry = df['IndustryName'].value_counts().index[:9].tolist()\n",
    "df['Industry'] = df['IndustryName'].apply(lambda x : x if x in top_industry else 'Others')"
   ]
  },
  {
   "cell_type": "code",
   "execution_count": 25,
   "id": "27941af2",
   "metadata": {},
   "outputs": [
    {
     "data": {
      "text/html": [
       "<div>\n",
       "<style scoped>\n",
       "    .dataframe tbody tr th:only-of-type {\n",
       "        vertical-align: middle;\n",
       "    }\n",
       "\n",
       "    .dataframe tbody tr th {\n",
       "        vertical-align: top;\n",
       "    }\n",
       "\n",
       "    .dataframe thead th {\n",
       "        text-align: right;\n",
       "    }\n",
       "</style>\n",
       "<table border=\"1\" class=\"dataframe\">\n",
       "  <thead>\n",
       "    <tr style=\"text-align: right;\">\n",
       "      <th></th>\n",
       "      <th>mean</th>\n",
       "      <th>N</th>\n",
       "    </tr>\n",
       "    <tr>\n",
       "      <th>Industry</th>\n",
       "      <th></th>\n",
       "      <th></th>\n",
       "    </tr>\n",
       "  </thead>\n",
       "  <tbody>\n",
       "    <tr>\n",
       "      <th>Bank/ Non-Bank Fin. Institution</th>\n",
       "      <td>0.007590</td>\n",
       "      <td>827</td>\n",
       "    </tr>\n",
       "    <tr>\n",
       "      <th>Education</th>\n",
       "      <td>0.025341</td>\n",
       "      <td>1089</td>\n",
       "    </tr>\n",
       "    <tr>\n",
       "      <th>Garments/ Textile</th>\n",
       "      <td>0.025844</td>\n",
       "      <td>1549</td>\n",
       "    </tr>\n",
       "    <tr>\n",
       "      <th>Govt./ Semi-Govt./ Autonomous</th>\n",
       "      <td>0.001286</td>\n",
       "      <td>731</td>\n",
       "    </tr>\n",
       "    <tr>\n",
       "      <th>Information Technology (IT)</th>\n",
       "      <td>0.706241</td>\n",
       "      <td>17989</td>\n",
       "    </tr>\n",
       "    <tr>\n",
       "      <th>Manufacturing (Heavy Industry)</th>\n",
       "      <td>0.011643</td>\n",
       "      <td>864</td>\n",
       "    </tr>\n",
       "    <tr>\n",
       "      <th>NGO/Development</th>\n",
       "      <td>0.014998</td>\n",
       "      <td>1060</td>\n",
       "    </tr>\n",
       "    <tr>\n",
       "      <th>Others</th>\n",
       "      <td>0.147907</td>\n",
       "      <td>5895</td>\n",
       "    </tr>\n",
       "    <tr>\n",
       "      <th>Telecommunication</th>\n",
       "      <td>0.059152</td>\n",
       "      <td>1522</td>\n",
       "    </tr>\n",
       "  </tbody>\n",
       "</table>\n",
       "</div>"
      ],
      "text/plain": [
       "                                     mean      N\n",
       "Industry                                        \n",
       "Bank/ Non-Bank Fin. Institution  0.007590    827\n",
       "Education                        0.025341   1089\n",
       "Garments/ Textile                0.025844   1549\n",
       "Govt./ Semi-Govt./ Autonomous    0.001286    731\n",
       "Information Technology (IT)      0.706241  17989\n",
       "Manufacturing (Heavy Industry)   0.011643    864\n",
       "NGO/Development                  0.014998   1060\n",
       "Others                           0.147907   5895\n",
       "Telecommunication                0.059152   1522"
      ]
     },
     "execution_count": 25,
     "metadata": {},
     "output_type": "execute_result"
    }
   ],
   "source": [
    "industry_df = pd.DataFrame(df.groupby(['Industry'])['TotalVacancy'].sum()/df['TotalVacancy'].sum())\n",
    "industry_df.rename(columns={'TotalVacancy':'mean'},inplace=True)\n",
    "# industry_df['mean'] = df.groupby(['Industry'])['TotalVacancy'].count()\n",
    "# industry_df['std'] = df.groupby(['Industry'])['TotalVacancy'].std()\n",
    "industry_df['N'] = df.groupby(['Industry'])['TotalVacancy'].count()\n",
    "industry_df['mean']\n",
    "industry_df.to_csv(os.path.join(TABLE,'industry.csv'),float_format='%.3f')\n",
    "industry_df"
   ]
  },
  {
   "cell_type": "markdown",
   "id": "1a9a287f",
   "metadata": {},
   "source": [
    "<h1>Location</h1>"
   ]
  },
  {
   "cell_type": "code",
   "execution_count": 26,
   "id": "de24cf80",
   "metadata": {},
   "outputs": [],
   "source": [
    "df['Location_dhaka'] = df['City'].apply(lambda x : 'Dhaka' if x in ['Dhaka'] else None)\n",
    "df['Location_bd'] = df['Country'].apply(lambda x : 'Dhaka or anywhere in Bangladesh' if x =='Bangladesh' else 'Outside Bangladesh')"
   ]
  },
  {
   "cell_type": "code",
   "execution_count": 27,
   "id": "f66d4f4e",
   "metadata": {},
   "outputs": [
    {
     "data": {
      "text/html": [
       "<div>\n",
       "<style scoped>\n",
       "    .dataframe tbody tr th:only-of-type {\n",
       "        vertical-align: middle;\n",
       "    }\n",
       "\n",
       "    .dataframe tbody tr th {\n",
       "        vertical-align: top;\n",
       "    }\n",
       "\n",
       "    .dataframe thead th {\n",
       "        text-align: right;\n",
       "    }\n",
       "</style>\n",
       "<table border=\"1\" class=\"dataframe\">\n",
       "  <thead>\n",
       "    <tr style=\"text-align: right;\">\n",
       "      <th></th>\n",
       "      <th>Location</th>\n",
       "      <th>Mean</th>\n",
       "      <th>N</th>\n",
       "    </tr>\n",
       "  </thead>\n",
       "  <tbody>\n",
       "    <tr>\n",
       "      <th>0</th>\n",
       "      <td>Dhaka City</td>\n",
       "      <td>0.461318</td>\n",
       "      <td>16351</td>\n",
       "    </tr>\n",
       "    <tr>\n",
       "      <th>1</th>\n",
       "      <td>Dhaka City or anywhere in Bangladesh</td>\n",
       "      <td>0.976434</td>\n",
       "      <td>31174</td>\n",
       "    </tr>\n",
       "    <tr>\n",
       "      <th>2</th>\n",
       "      <td>Outside Bangladesh</td>\n",
       "      <td>0.023566</td>\n",
       "      <td>352</td>\n",
       "    </tr>\n",
       "  </tbody>\n",
       "</table>\n",
       "</div>"
      ],
      "text/plain": [
       "                               Location      Mean      N\n",
       "0                            Dhaka City  0.461318  16351\n",
       "1  Dhaka City or anywhere in Bangladesh  0.976434  31174\n",
       "2                    Outside Bangladesh  0.023566    352"
      ]
     },
     "execution_count": 27,
     "metadata": {},
     "output_type": "execute_result"
    }
   ],
   "source": [
    "location_df = pd.DataFrame(columns=['Location','Mean','N'])\n",
    "location_df.loc[0] = ('Dhaka City',df[df['Location_dhaka'] == 'Dhaka']['TotalVacancy'].sum()/df['TotalVacancy'].sum(),\n",
    "                     df[df['Location_dhaka'] == 'Dhaka']['TotalVacancy'].count())\n",
    "location_df.loc[1] = ('Dhaka City or anywhere in Bangladesh',df[df['Location_bd'] == 'Dhaka or anywhere in Bangladesh']['TotalVacancy'].sum()/df['TotalVacancy'].sum(),\n",
    "                     df[df['Location_bd'] == 'Dhaka or anywhere in Bangladesh']['TotalVacancy'].count())\n",
    "location_df.loc[2] = ('Outside Bangladesh',df[df['Location_bd'] == 'Outside Bangladesh']['TotalVacancy'].sum()/df['TotalVacancy'].sum(),\n",
    "                     df[df['Location_bd'] == 'Outside Bangladesh']['TotalVacancy'].count())\n",
    "location_df.to_csv(os.path.join(TABLE,'location.csv'),float_format='%.3f')\n",
    "location_df"
   ]
  }
 ],
 "metadata": {
  "kernelspec": {
   "display_name": "Python 3 (ipykernel)",
   "language": "python",
   "name": "python3"
  },
  "language_info": {
   "codemirror_mode": {
    "name": "ipython",
    "version": 3
   },
   "file_extension": ".py",
   "mimetype": "text/x-python",
   "name": "python",
   "nbconvert_exporter": "python",
   "pygments_lexer": "ipython3",
   "version": "3.8.10"
  }
 },
 "nbformat": 4,
 "nbformat_minor": 5
}
