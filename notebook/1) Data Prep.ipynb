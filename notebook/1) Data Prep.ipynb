{
 "cells": [
  {
   "cell_type": "code",
   "execution_count": 2,
   "id": "e4e403a5",
   "metadata": {
    "hide_input": false,
    "scrolled": true
   },
   "outputs": [
    {
     "name": "stdout",
     "output_type": "stream",
     "text": [
      "The Zen of Python, by Tim Peters\n",
      "\n",
      "Beautiful is better than ugly.\n",
      "Explicit is better than implicit.\n",
      "Simple is better than complex.\n",
      "Complex is better than complicated.\n",
      "Flat is better than nested.\n",
      "Sparse is better than dense.\n",
      "Readability counts.\n",
      "Special cases aren't special enough to break the rules.\n",
      "Although practicality beats purity.\n",
      "Errors should never pass silently.\n",
      "Unless explicitly silenced.\n",
      "In the face of ambiguity, refuse the temptation to guess.\n",
      "There should be one-- and preferably only one --obvious way to do it.\n",
      "Although that way may not be obvious at first unless you're Dutch.\n",
      "Now is better than never.\n",
      "Although never is often better than *right* now.\n",
      "If the implementation is hard to explain, it's a bad idea.\n",
      "If the implementation is easy to explain, it may be a good idea.\n",
      "Namespaces are one honking great idea -- let's do more of those!\n"
     ]
    }
   ],
   "source": [
    "# This is an example snippet!\n",
    "# To create your own, add a new snippet block to the\n",
    "# snippets.json file in your jupyter nbextensions directory:\n",
    "# /nbextensions/snippets/snippets.json\n",
    "import this"
   ]
  },
  {
   "cell_type": "markdown",
   "id": "gorgeous-sunday",
   "metadata": {
    "hide_input": true
   },
   "source": [
    "<h1> Import All Necessary Package </h1>"
   ]
  },
  {
   "cell_type": "code",
   "execution_count": 7,
   "id": "electronic-rider",
   "metadata": {},
   "outputs": [],
   "source": [
    "\n",
    "import pandas as pd\n",
    "import numpy as np\n",
    "import matplotlib.pyplot as plt\n",
    "import seaborn as sns\n",
    "import datetime\n",
    "import os\n",
    "\n",
    "plt.style.use('fivethirtyeight')\n",
    "sns.set()\n",
    "plt.rcParams['figure.figsize'] = (12, 12)"
   ]
  },
  {
   "cell_type": "code",
   "execution_count": 4,
   "id": "billion-chicago",
   "metadata": {},
   "outputs": [
    {
     "data": {
      "text/plain": [
       "['Dataset_v3.csv',\n",
       " '.~lock.skills.csv#',\n",
       " 'Dataset_v2.csv',\n",
       " '.~lock.Information_Technology.csv#',\n",
       " 'Dataset_v10.csv',\n",
       " 'Jobs (2016-2018).xlsx',\n",
       " 'ONET_Occupations.csv',\n",
       " 'Jobs (2019-2021) - Bdjobs_old.xlsx',\n",
       " '.~lock.CSE_Courses_BD.xlsx#',\n",
       " '[TorrentBD]Demon Slayer AKA Kimetsu no Yaiba - Mugen Ressha-hen S02E02 1080p WEBRip AAC 2 0  x265-JONGi.torrent',\n",
       " '[TorrentBD]Demon Slayer AKA Kimetsu no Yaiba - Mugen Ressha-hen S02E02 1080p WEBRip AAC 2 0  x265-JONGi (1).torrent',\n",
       " 'vector.npy',\n",
       " 'Information_Technology.csv',\n",
       " '.~lock.Jobs (2019-2021) - Bdjobs.xlsx#',\n",
       " 'Dataset_v1.csv',\n",
       " '[TorrentBD]Demon Slayer aka Kimetsu no Yaiba - Mugen Train Arc (2021) S02E02 720p WEB-DL x264 - SubsPlease.torrent',\n",
       " 'Jobs (2019-2021) - Bdjobs.xlsx',\n",
       " 'CSE_Courses_BD.xlsx',\n",
       " 'skills.csv',\n",
       " 'Dataset_v5.csv',\n",
       " 'Dataset_v11.csv',\n",
       " 'Dataset_v4.csv',\n",
       " 'ISCO.csv',\n",
       " 'Skill_Rank.csv']"
      ]
     },
     "execution_count": 4,
     "metadata": {},
     "output_type": "execute_result"
    }
   ],
   "source": [
    "GRAPH = 'Results/Graphs'\n",
    "TABLE = 'Results/Tables'\n",
    "DATA = '../data'\n",
    "VERSION = 10\n",
    "os.listdir(DATA)"
   ]
  },
  {
   "cell_type": "code",
   "execution_count": 5,
   "id": "mature-philadelphia",
   "metadata": {
    "hide_input": true
   },
   "outputs": [],
   "source": [
    "#Reading 2016 to 2018 dataset\n",
    "df1 = pd.concat(pd.read_excel(os.path.join(DATA,'Jobs (2016-2018).xlsx'),sheet_name=[1,2,3],keep_default_na=True),ignore_index=True)\n",
    "#Reading 2019 to 2021 dataset\n",
    "df2 = pd.concat(pd.read_excel(os.path.join(DATA,'Jobs (2019-2021) - Bdjobs.xlsx'),sheet_name=[1,2,3],keep_default_na=True),ignore_index=True)"
   ]
  },
  {
   "cell_type": "code",
   "execution_count": null,
   "id": "annoying-reynolds",
   "metadata": {},
   "outputs": [],
   "source": [
    "# Merging Both dataset\n",
    "df = pd.concat([df1, df2])\n",
    "df.shape"
   ]
  },
  {
   "cell_type": "code",
   "execution_count": 5,
   "id": "saved-contract",
   "metadata": {},
   "outputs": [],
   "source": [
    "df.to_csv(os.path.join(DATA, 'Dataset_v10.csv'), index=False)"
   ]
  },
  {
   "cell_type": "markdown",
   "id": "certain-karaoke",
   "metadata": {},
   "source": [
    "<h1>Preprocessing Starts</h1>"
   ]
  },
  {
   "cell_type": "code",
   "execution_count": 3,
   "id": "tender-brazilian",
   "metadata": {},
   "outputs": [
    {
     "data": {
      "text/plain": [
       "(31526, 21)"
      ]
     },
     "execution_count": 3,
     "metadata": {},
     "output_type": "execute_result"
    }
   ],
   "source": [
    "df = pd.read_csv(os.path.join(DATA,'Dataset_v'+str(VERSION) + '.csv'))\n",
    "df.shape"
   ]
  },
  {
   "cell_type": "code",
   "execution_count": 9,
   "id": "6e63dede",
   "metadata": {
    "scrolled": true
   },
   "outputs": [
    {
     "data": {
      "application/vnd.jupyter.widget-view+json": {
       "model_id": "cb2ec52e428f471988ff1358509d5c36",
       "version_major": 2,
       "version_minor": 0
      },
      "text/plain": [
       "QgridWidget(grid_options={'fullWidthRows': True, 'syncColumnCellResize': True, 'forceFitColumns': True, 'defau…"
      ]
     },
     "metadata": {},
     "output_type": "display_data"
    }
   ],
   "source": [
    "import qgrid\n",
    "qgrid_widget = qgrid.show_grid(df,show_toolbar=True)\n",
    "qgrid_widget"
   ]
  },
  {
   "cell_type": "markdown",
   "id": "statistical-influence",
   "metadata": {},
   "source": [
    "<h1>Process Date</h1>"
   ]
  },
  {
   "cell_type": "code",
   "execution_count": 5,
   "id": "steady-scroll",
   "metadata": {},
   "outputs": [],
   "source": [
    "df['Year'] = pd.to_datetime(df['PublishDate']).dt.year\n",
    "#If you need Quater\n",
    "# df['Quarter'] = pd.to_datetime(df['PublishDate']).dt.to_period('Q')"
   ]
  },
  {
   "cell_type": "code",
   "execution_count": 6,
   "id": "f8d89831",
   "metadata": {},
   "outputs": [
    {
     "data": {
      "text/plain": [
       "2021    6074\n",
       "2019    5570\n",
       "2018    5323\n",
       "2017    5275\n",
       "2016    5039\n",
       "2020    4245\n",
       "Name: Year, dtype: int64"
      ]
     },
     "execution_count": 6,
     "metadata": {},
     "output_type": "execute_result"
    }
   ],
   "source": [
    "df['Year'].value_counts()"
   ]
  },
  {
   "cell_type": "markdown",
   "id": "polished-sleep",
   "metadata": {},
   "source": [
    "<h1> Process Total Vacancy </h1>"
   ]
  },
  {
   "cell_type": "code",
   "execution_count": 25,
   "id": "streaming-initial",
   "metadata": {},
   "outputs": [],
   "source": [
    "df['TotalVacancy'] = df['TotalVacancy'].fillna(0)  # Remove NA\n",
    "df['TotalVacancy'] = df['TotalVacancy'].replace({\n",
    "        '1.0':1, '2.0':2,\n",
    "        '2019-02-03 00:00:00':0,'2019-06-08 00:00:00':0,\n",
    "        '2019-10-15 00:00:00':0,\n",
    "       '&#2534;&#2537;':0, '1+':1,\n",
    "       '2019-02-05 00:00:00':0,\n",
    "       '2019-05-08 00:00:00':0, '01 (One)':0, 'Any':0,\n",
    "       '04 (Females can apply)':4, '02 (Female will get advantage)':2,\n",
    "       'Confidential':0, '2019-08-10 00:00:00':0, '40-50':45, '5+':5,\n",
    "       '15 person clipping expert man urgent':15, '02+02':4, '30+':30,\n",
    "        '8 (Contractual)':8, '30-50':40,\n",
    "       'Based on requirement.':0,\n",
    "       'Two (02)':2, '2019-07-08 00:00:00':0,\n",
    "       'Asst. Manager I.T /  System Administrator ':0,\n",
    "       '2019-02-04 00:00:00':0, 'Senior (5),Mid Level+Junior(12)':17,\n",
    "       '10 (Chittagong, Sylhet, Comilla, Mymensing & Khuln':10,\n",
    "       '2019-06-07 00:00:00':0, '06 (Females can apply)':6, '03 (Three)':3,\n",
    "       '15  (Fresher-10, Others-5)':15, '2019-01-02 00:00:00':0,\n",
    "        '2019-04-05 00:00:00':0, '2019-03-04 00:00:00':0, 'Multiple':0,\n",
    "        '&#2534;&#2535;':0, '2019-03-05 00:00:00':0,\n",
    "       '2019-05-07 00:00:00':0,'1 (One)':1, \n",
    "       '2019-05-06 00:00:00':0, '3 (Three)':3,\n",
    "     })\n",
    "df['TotalVacancy'] = df['TotalVacancy'].astype(float)  #Need to convert string to float first\n",
    "df['TotalVacancy'] = df['TotalVacancy'].astype(int)"
   ]
  },
  {
   "cell_type": "code",
   "execution_count": 26,
   "id": "mineral-twist",
   "metadata": {
    "scrolled": true
   },
   "outputs": [
    {
     "data": {
      "text/plain": [
       "1      8969\n",
       "0      8454\n",
       "2      7003\n",
       "3      2565\n",
       "5      1618\n",
       "4      1237\n",
       "10      626\n",
       "6       274\n",
       "8       139\n",
       "20      129\n",
       "15      122\n",
       "7        98\n",
       "30       48\n",
       "12       44\n",
       "25       35\n",
       "40       31\n",
       "50       30\n",
       "100      22\n",
       "9        10\n",
       "45        7\n",
       "11        5\n",
       "18        5\n",
       "200       4\n",
       "16        4\n",
       "22        4\n",
       "13        3\n",
       "75        3\n",
       "26        3\n",
       "14        3\n",
       "35        3\n",
       "500       3\n",
       "60        2\n",
       "17        2\n",
       "120       2\n",
       "150       2\n",
       "21        2\n",
       "80        2\n",
       "128       2\n",
       "24        1\n",
       "32        1\n",
       "501       1\n",
       "27        1\n",
       "64        1\n",
       "180       1\n",
       "36        1\n",
       "83        1\n",
       "130       1\n",
       "47        1\n",
       "175       1\n",
       "Name: TotalVacancy, dtype: int64"
      ]
     },
     "execution_count": 26,
     "metadata": {},
     "output_type": "execute_result"
    }
   ],
   "source": [
    "df['TotalVacancy'].value_counts()"
   ]
  },
  {
   "cell_type": "markdown",
   "id": "substantial-search",
   "metadata": {},
   "source": [
    "<h1>Process Number of Applicants</h1>"
   ]
  },
  {
   "cell_type": "code",
   "execution_count": 27,
   "id": "breathing-friendship",
   "metadata": {},
   "outputs": [],
   "source": [
    "df['number_applicants'] = df['number_applicants'].astype(int)"
   ]
  },
  {
   "cell_type": "markdown",
   "id": "african-district",
   "metadata": {},
   "source": [
    "<h1>Process Job Level and Type</h1>"
   ]
  },
  {
   "cell_type": "code",
   "execution_count": 28,
   "id": "unusual-acceptance",
   "metadata": {},
   "outputs": [],
   "source": [
    "# df['JobLevel'] = df['JobLevel'].replace({'Entry, Mid':'Entry','Mid, Top':'Mid',\n",
    "#                                         'Entry, Mid, Top':'Any','Entry, Top':'Entry'})"
   ]
  },
  {
   "cell_type": "code",
   "execution_count": 29,
   "id": "small-forth",
   "metadata": {},
   "outputs": [
    {
     "data": {
      "text/plain": [
       "Mid                14832\n",
       "Entry              11185\n",
       "Entry, Mid          2711\n",
       "Mid, Top            1398\n",
       "Top                 1165\n",
       "Entry, Mid, Top      230\n",
       "Entry, Top             5\n",
       "Name: JobLevel, dtype: int64"
      ]
     },
     "execution_count": 29,
     "metadata": {},
     "output_type": "execute_result"
    }
   ],
   "source": [
    "df['JobLevel'].value_counts()"
   ]
  },
  {
   "cell_type": "code",
   "execution_count": 30,
   "id": "nervous-arabic",
   "metadata": {},
   "outputs": [],
   "source": [
    "df['JobType'].replace(to_replace='([a-zA-Z]+),.*',value=r'\\1',regex=True,inplace=True) #Keep only the first Entry"
   ]
  },
  {
   "cell_type": "code",
   "execution_count": 31,
   "id": "presidential-house",
   "metadata": {},
   "outputs": [
    {
     "data": {
      "text/plain": [
       "FullTime     30173\n",
       "Contract      1003\n",
       "PartTime       174\n",
       "Intern         161\n",
       "Freelance       14\n",
       "Name: JobType, dtype: int64"
      ]
     },
     "execution_count": 31,
     "metadata": {},
     "output_type": "execute_result"
    }
   ],
   "source": [
    "df['JobType'].value_counts()"
   ]
  },
  {
   "cell_type": "markdown",
   "id": "criminal-complement",
   "metadata": {},
   "source": [
    "<h1>Done</h1>"
   ]
  },
  {
   "cell_type": "code",
   "execution_count": 33,
   "id": "minor-viewer",
   "metadata": {},
   "outputs": [],
   "source": [
    "df.to_csv(os.path.join(DATA,'Dataset_v10.csv'),index=False)"
   ]
  },
  {
   "cell_type": "code",
   "execution_count": null,
   "id": "4d5cc0f3",
   "metadata": {},
   "outputs": [],
   "source": []
  }
 ],
 "metadata": {
  "kernelspec": {
   "display_name": "Python 3 (ipykernel)",
   "language": "python",
   "name": "python3"
  },
  "language_info": {
   "codemirror_mode": {
    "name": "ipython",
    "version": 3
   },
   "file_extension": ".py",
   "mimetype": "text/x-python",
   "name": "python",
   "nbconvert_exporter": "python",
   "pygments_lexer": "ipython3",
   "version": "3.8.10"
  },
  "toc": {
   "base_numbering": 1,
   "nav_menu": {},
   "number_sections": true,
   "sideBar": true,
   "skip_h1_title": false,
   "title_cell": "Table of Contents",
   "title_sidebar": "Contents",
   "toc_cell": false,
   "toc_position": {
    "height": "calc(100% - 180px)",
    "left": "10px",
    "top": "150px",
    "width": "384px"
   },
   "toc_section_display": true,
   "toc_window_display": true
  },
  "varInspector": {
   "cols": {
    "lenName": 16,
    "lenType": 16,
    "lenVar": 40
   },
   "kernels_config": {
    "python": {
     "delete_cmd_postfix": "",
     "delete_cmd_prefix": "del ",
     "library": "var_list.py",
     "varRefreshCmd": "print(var_dic_list())"
    },
    "r": {
     "delete_cmd_postfix": ") ",
     "delete_cmd_prefix": "rm(",
     "library": "var_list.r",
     "varRefreshCmd": "cat(var_dic_list()) "
    }
   },
   "types_to_exclude": [
    "module",
    "function",
    "builtin_function_or_method",
    "instance",
    "_Feature"
   ],
   "window_display": false
  }
 },
 "nbformat": 4,
 "nbformat_minor": 5
}
