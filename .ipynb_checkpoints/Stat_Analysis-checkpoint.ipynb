{
 "cells": [
  {
   "cell_type": "markdown",
   "id": "6511a654",
   "metadata": {},
   "source": [
    "<h1>Import Packages</h1>"
   ]
  },
  {
   "cell_type": "code",
   "execution_count": 1,
   "id": "301624c7",
   "metadata": {},
   "outputs": [],
   "source": [
    "import pandas as pd\n",
    "import numpy as np\n",
    "import matplotlib.pyplot as plt\n",
    "import seaborn as sns\n",
    "import datetime\n",
    "import os\n",
    "\n",
    "plt.style.use('fivethirtyeight')\n",
    "sns.set()\n",
    "plt.rcParams['figure.figsize'] = (12,12)"
   ]
  },
  {
   "cell_type": "code",
   "execution_count": 2,
   "id": "740f282a",
   "metadata": {},
   "outputs": [
    {
     "data": {
      "text/plain": [
       "['Dataset_v3.csv',\n",
       " 'Dataset_v2.csv',\n",
       " 'Jobs (2016-2018).xlsx',\n",
       " 'ONET_Occupations.csv',\n",
       " 'Dataset_v1.csv',\n",
       " 'Jobs (2019-2021) - Bdjobs.xlsx',\n",
       " 'ISCO.csv']"
      ]
     },
     "execution_count": 2,
     "metadata": {},
     "output_type": "execute_result"
    }
   ],
   "source": [
    "GRAPH = 'Results/Graphs'\n",
    "TABLE = 'Results/Tables'\n",
    "DATA = './data'\n",
    "VERSION = 2  #1: Merged All 2:Cleaned\n",
    "os.listdir(DATA)"
   ]
  },
  {
   "cell_type": "markdown",
   "id": "fa2cf3eb",
   "metadata": {},
   "source": [
    "<h1>Load Pre-processed Data</h1>"
   ]
  },
  {
   "cell_type": "code",
   "execution_count": 3,
   "id": "4103d5aa",
   "metadata": {},
   "outputs": [],
   "source": [
    "df = pd.read_csv(os.path.join(DATA,'Dataset_v'+str(VERSION) + '.csv'))"
   ]
  },
  {
   "cell_type": "markdown",
   "id": "ec4806e1",
   "metadata": {},
   "source": [
    "<h1>Employment Type</h1>\n",
    "\n"
   ]
  },
  {
   "cell_type": "code",
   "execution_count": 31,
   "id": "b1bf38f3",
   "metadata": {},
   "outputs": [
    {
     "data": {
      "text/html": [
       "<div>\n",
       "<style scoped>\n",
       "    .dataframe tbody tr th:only-of-type {\n",
       "        vertical-align: middle;\n",
       "    }\n",
       "\n",
       "    .dataframe tbody tr th {\n",
       "        vertical-align: top;\n",
       "    }\n",
       "\n",
       "    .dataframe thead th {\n",
       "        text-align: right;\n",
       "    }\n",
       "</style>\n",
       "<table border=\"1\" class=\"dataframe\">\n",
       "  <thead>\n",
       "    <tr style=\"text-align: right;\">\n",
       "      <th></th>\n",
       "      <th>mean</th>\n",
       "      <th>std</th>\n",
       "      <th>N</th>\n",
       "    </tr>\n",
       "    <tr>\n",
       "      <th>JobType</th>\n",
       "      <th></th>\n",
       "      <th></th>\n",
       "      <th></th>\n",
       "    </tr>\n",
       "  </thead>\n",
       "  <tbody>\n",
       "    <tr>\n",
       "      <th>Contract</th>\n",
       "      <td>0.045368</td>\n",
       "      <td>11.232037</td>\n",
       "      <td>943</td>\n",
       "    </tr>\n",
       "    <tr>\n",
       "      <th>Freelance</th>\n",
       "      <td>0.008577</td>\n",
       "      <td>149.093137</td>\n",
       "      <td>11</td>\n",
       "    </tr>\n",
       "    <tr>\n",
       "      <th>FullTime</th>\n",
       "      <td>0.924163</td>\n",
       "      <td>7.385274</td>\n",
       "      <td>27061</td>\n",
       "    </tr>\n",
       "    <tr>\n",
       "      <th>Intern</th>\n",
       "      <td>0.010679</td>\n",
       "      <td>17.456123</td>\n",
       "      <td>138</td>\n",
       "    </tr>\n",
       "    <tr>\n",
       "      <th>PartTime</th>\n",
       "      <td>0.011197</td>\n",
       "      <td>11.863612</td>\n",
       "      <td>163</td>\n",
       "    </tr>\n",
       "  </tbody>\n",
       "</table>\n",
       "</div>"
      ],
      "text/plain": [
       "               mean         std      N\n",
       "JobType                               \n",
       "Contract   0.045368   11.232037    943\n",
       "Freelance  0.008577  149.093137     11\n",
       "FullTime   0.924163    7.385274  27061\n",
       "Intern     0.010679   17.456123    138\n",
       "PartTime   0.011197   11.863612    163"
      ]
     },
     "execution_count": 31,
     "metadata": {},
     "output_type": "execute_result"
    }
   ],
   "source": [
    "emp_type_df = pd.DataFrame(df.groupby(['JobType'])['TotalVacancy'].sum()/df['TotalVacancy'].sum())\n",
    "emp_type_df.rename(columns={'TotalVacancy':'mean'},inplace=True)\n",
    "# emp_type_df['mean'] = df.groupby(['JobType'])['TotalVacancy'].mean()\n",
    "emp_type_df['std'] = df.groupby(['JobType'])['TotalVacancy'].std()\n",
    "emp_type_df['N'] = df.groupby(['JobType'])['TotalVacancy'].count()\n",
    "emp_type_df.to_csv(os.path.join(TABLE,'emp_type.csv'),float_format='%.3f')\n",
    "emp_type_df"
   ]
  },
  {
   "cell_type": "markdown",
   "id": "c991ef54",
   "metadata": {},
   "source": [
    "<h1>Position Level </h1>"
   ]
  },
  {
   "cell_type": "code",
   "execution_count": 30,
   "id": "8a15baa7",
   "metadata": {},
   "outputs": [
    {
     "data": {
      "text/html": [
       "<div>\n",
       "<style scoped>\n",
       "    .dataframe tbody tr th:only-of-type {\n",
       "        vertical-align: middle;\n",
       "    }\n",
       "\n",
       "    .dataframe tbody tr th {\n",
       "        vertical-align: top;\n",
       "    }\n",
       "\n",
       "    .dataframe thead th {\n",
       "        text-align: right;\n",
       "    }\n",
       "</style>\n",
       "<table border=\"1\" class=\"dataframe\">\n",
       "  <thead>\n",
       "    <tr style=\"text-align: right;\">\n",
       "      <th></th>\n",
       "      <th>mean</th>\n",
       "      <th>std</th>\n",
       "      <th>N</th>\n",
       "    </tr>\n",
       "    <tr>\n",
       "      <th>JobLevel</th>\n",
       "      <th></th>\n",
       "      <th></th>\n",
       "      <th></th>\n",
       "    </tr>\n",
       "  </thead>\n",
       "  <tbody>\n",
       "    <tr>\n",
       "      <th>Entry</th>\n",
       "      <td>0.566963</td>\n",
       "      <td>11.797367</td>\n",
       "      <td>12854</td>\n",
       "    </tr>\n",
       "    <tr>\n",
       "      <th>Mid</th>\n",
       "      <td>0.405813</td>\n",
       "      <td>2.716970</td>\n",
       "      <td>14428</td>\n",
       "    </tr>\n",
       "    <tr>\n",
       "      <th>Top</th>\n",
       "      <td>0.027224</td>\n",
       "      <td>2.658081</td>\n",
       "      <td>1035</td>\n",
       "    </tr>\n",
       "  </tbody>\n",
       "</table>\n",
       "</div>"
      ],
      "text/plain": [
       "              mean        std      N\n",
       "JobLevel                            \n",
       "Entry     0.566963  11.797367  12854\n",
       "Mid       0.405813   2.716970  14428\n",
       "Top       0.027224   2.658081   1035"
      ]
     },
     "execution_count": 30,
     "metadata": {},
     "output_type": "execute_result"
    }
   ],
   "source": [
    "pos_level_df = pd.DataFrame(df.groupby(['JobLevel'])['TotalVacancy'].sum()/df['TotalVacancy'].sum())\n",
    "pos_level_df.rename(columns={'TotalVacancy':'mean'},inplace=True)\n",
    "# pos_level_df['mean'] = df.groupby(['JobLevel'])['TotalVacancy'].mean()\n",
    "pos_level_df['std'] = df.groupby(['JobLevel'])['TotalVacancy'].std()\n",
    "pos_level_df['N'] = df.groupby(['JobLevel'])['TotalVacancy'].count()\n",
    "pos_level_df.to_csv(os.path.join(TABLE,'pos_level.csv'),float_format='%.3f')\n",
    "pos_level_df"
   ]
  },
  {
   "cell_type": "markdown",
   "id": "f86b2e22",
   "metadata": {},
   "source": [
    "<h1>Gender</h1>"
   ]
  },
  {
   "cell_type": "code",
   "execution_count": 7,
   "id": "5bd6dff3",
   "metadata": {},
   "outputs": [
    {
     "data": {
      "text/plain": [
       "Both male and female    16890\n",
       "Not Specified            7140\n",
       "Male only                4068\n",
       "Female only               219\n",
       "Name: Gender, dtype: int64"
      ]
     },
     "execution_count": 7,
     "metadata": {},
     "output_type": "execute_result"
    }
   ],
   "source": [
    "df['Gender'] = df['MaleGender'] + df['FemaleGender']\n",
    "df['Gender'] = df['Gender'].apply(lambda x : 'Both male and female' if x == 2 else x)\n",
    "df['Gender'] = df['Gender'].apply(lambda x : 'Not Specified' if x == 0 else x)\n",
    "for i in range(len(df)):\n",
    "    if df.loc[i,'Gender'] == 1:\n",
    "        if df.loc[i,'MaleGender'] == 1:\n",
    "            df.loc[i,'Gender'] = 'Male only'\n",
    "        else:\n",
    "            df.loc[i,'Gender'] = 'Female only'\n",
    "            \n",
    "df['Gender'].value_counts()"
   ]
  },
  {
   "cell_type": "code",
   "execution_count": 26,
   "id": "27f04956",
   "metadata": {},
   "outputs": [],
   "source": [
    "gender_df = pd.DataFrame(df.groupby(['Gender'])['TotalVacancy'].sum()/df['TotalVacancy'].sum())\n",
    "gender_df['N'] = df.groupby(['Gender'])['TotalVacancy'].count()\n",
    "gender_df.to_csv(os.path.join(TABLE,'gender.csv'),float_format='%.3f')"
   ]
  },
  {
   "cell_type": "markdown",
   "id": "2130a127",
   "metadata": {},
   "source": [
    "<h1>Industry </h1>"
   ]
  },
  {
   "cell_type": "code",
   "execution_count": 11,
   "id": "0b19167f",
   "metadata": {},
   "outputs": [],
   "source": [
    "top_industry = df['IndustryName'].value_counts().index[:9].tolist()\n",
    "df['Industry'] = df['IndustryName'].apply(lambda x : x if x in top_industry else 'Others')"
   ]
  },
  {
   "cell_type": "code",
   "execution_count": 27,
   "id": "27941af2",
   "metadata": {},
   "outputs": [],
   "source": [
    "industry_df = pd.DataFrame(df.groupby(['Industry'])['TotalVacancy'].sum()/df['TotalVacancy'].sum())\n",
    "industry_df.rename(columns={'TotalVacancy':'mean'},inplace=True)\n",
    "industry_df['mean'] = df.groupby(['Industry'])['TotalVacancy'].mean()\n",
    "industry_df['std'] = df.groupby(['Industry'])['TotalVacancy'].std()\n",
    "industry_df['N'] = df.groupby(['Industry'])['TotalVacancy'].count()\n",
    "industry_df.to_csv(os.path.join(TABLE,'industry.csv'),float_format='%.3f')"
   ]
  },
  {
   "cell_type": "markdown",
   "id": "1a9a287f",
   "metadata": {},
   "source": [
    "<h1>Location</h1>"
   ]
  },
  {
   "cell_type": "code",
   "execution_count": 28,
   "id": "de24cf80",
   "metadata": {},
   "outputs": [],
   "source": [
    "df['Location_dhaka'] = df['City'].apply(lambda x : 'Dhaka' if x in ['Dhaka'] else None)\n",
    "df['Location_bd'] = df['Country'].apply(lambda x : 'Dhaka or anywhere in Bangladesh' if x =='Bangladesh' else 'Outside Bangladesh')"
   ]
  },
  {
   "cell_type": "code",
   "execution_count": 29,
   "id": "f66d4f4e",
   "metadata": {},
   "outputs": [],
   "source": [
    "location_df = pd.DataFrame(columns=['Location','Mean','N'])\n",
    "location_df.loc[0] = ('Dhaka City',df[df['Location_dhaka'] == 'Dhaka']['TotalVacancy'].sum()/df['TotalVacancy'].sum(),\n",
    "                     df[df['Location_dhaka'] == 'Dhaka']['TotalVacancy'].count())\n",
    "location_df.loc[1] = ('Dhaka City or anywhere in Bangladesh',df[df['Location_bd'] == 'Dhaka or anywhere in Bangladesh']['TotalVacancy'].sum()/df['TotalVacancy'].sum(),\n",
    "                     df[df['Location_bd'] == 'Dhaka or anywhere in Bangladesh']['TotalVacancy'].count())\n",
    "location_df.loc[2] = ('Outside Bangladesh',df[df['Location_bd'] == 'Outside Bangladesh']['TotalVacancy'].sum()/df['TotalVacancy'].sum(),\n",
    "                     df[df['Location_bd'] == 'Outside Bangladesh']['TotalVacancy'].count())\n",
    "location_df.to_csv(os.path.join(TABLE,'location.csv'),float_format='%.3f')"
   ]
  },
  {
   "cell_type": "code",
   "execution_count": 99,
   "id": "9b854885",
   "metadata": {},
   "outputs": [
    {
     "data": {
      "text/plain": [
       "0        Have to work at NIGHT SHIFT. It will be roaste...\n",
       "1        Good understanding of OO Programming, OOAD con...\n",
       "2        Leading the IT Division as Division Head & Con...\n",
       "3        Provide Hardware, Software & ERP Related suppo...\n",
       "4        Expert with Cisco network administration - CCN...\n",
       "                               ...                        \n",
       "28312    We are looking for an experienced data scienti...\n",
       "28313    We are seeking a .Net Developer to join our te...\n",
       "28314    Works directly with clients to support various...\n",
       "28315    Develops Web look Intranet Portal Collaboratio...\n",
       "28316    Design and develop advanced applications for t...\n",
       "Name: Job_Responsibility, Length: 28317, dtype: object"
      ]
     },
     "execution_count": 99,
     "metadata": {},
     "output_type": "execute_result"
    }
   ],
   "source": [
    "df['Job_Responsibility']"
   ]
  },
  {
   "cell_type": "code",
   "execution_count": null,
   "id": "0739ee6b",
   "metadata": {},
   "outputs": [],
   "source": []
  }
 ],
 "metadata": {
  "kernelspec": {
   "display_name": "Python 3",
   "language": "python",
   "name": "python3"
  },
  "language_info": {
   "codemirror_mode": {
    "name": "ipython",
    "version": 3
   },
   "file_extension": ".py",
   "mimetype": "text/x-python",
   "name": "python",
   "nbconvert_exporter": "python",
   "pygments_lexer": "ipython3",
   "version": "3.8.10"
  }
 },
 "nbformat": 4,
 "nbformat_minor": 5
}
