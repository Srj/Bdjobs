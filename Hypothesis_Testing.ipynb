{
 "cells": [
  {
   "cell_type": "code",
   "execution_count": 1,
   "metadata": {},
   "outputs": [],
   "source": [
    "import pandas as pd\n",
    "import matplotlib.pyplot as plt\n",
    "import seaborn as sns\n",
    "import calendar\n",
    "import datetime\n",
    "import numpy as np\n",
    "from scipy import stats\n",
    "from scipy.stats import ttest_ind\n",
    "plt.style.use('fivethirtyeight')\n",
    "sns.set()\n",
    "plt.rcParams['figure.figsize']= (12,12)"
   ]
  },
  {
   "cell_type": "code",
   "execution_count": 10,
   "metadata": {},
   "outputs": [],
   "source": [
    "GRAPH = 'Results/Graphs'\n",
    "TABLE = 'Results/Tables'"
   ]
  },
  {
   "cell_type": "markdown",
   "metadata": {},
   "source": [
    "<h3> Importing 3 Excel Sheets and merging into a single Dataframe</h3>"
   ]
  },
  {
   "cell_type": "code",
   "execution_count": 3,
   "metadata": {},
   "outputs": [
    {
     "data": {
      "text/plain": [
       "(15637, 21)"
      ]
     },
     "execution_count": 3,
     "metadata": {},
     "output_type": "execute_result"
    }
   ],
   "source": [
    "df = pd.read_excel('BDjobs_ITjob_posting.xlsx',sheet_name=1,keep_default_na=False) #Reading All Sheets\n",
    "df1 = pd.read_excel('BDjobs_ITjob_posting.xlsx',sheet_name=2,keep_default_na=False)\n",
    "df2 = pd.read_excel('BDjobs_ITjob_posting.xlsx',sheet_name=3,keep_default_na=False)\n",
    "df = pd.concat([df,df1,df2]) # Merging All Sheets in a df.\n",
    "df.shape"
   ]
  },
  {
   "cell_type": "code",
   "execution_count": 44,
   "metadata": {},
   "outputs": [],
   "source": [
    "# df.loc[df.TotalVacancy.str.match(r'201[0-9]{1}-[0-9]{2}-[0-9]{2}.*'),'TotalVacancy'] = 0 # Clean Date\n",
    "df.TotalVacancy = df.TotalVacancy.astype(str) #Must Convert to str before using isdigit\n",
    "df = df[df.TotalVacancy.str.isdigit()] # Clean not int\n",
    "df.TotalVacancy = df.TotalVacancy.astype(int) #Convert to int"
   ]
  },
  {
   "cell_type": "code",
   "execution_count": 2,
   "metadata": {},
   "outputs": [],
   "source": [
    "# df.to_csv('Main_Dataset.csv',index=False)\n",
    "df = pd.read_csv('Main_Dataset.csv',keep_default_na=False) #Loading saved df and Keeping N/A as it is."
   ]
  },
  {
   "cell_type": "code",
   "execution_count": 3,
   "metadata": {},
   "outputs": [
    {
     "data": {
      "text/plain": [
       "(11963, 21)"
      ]
     },
     "execution_count": 3,
     "metadata": {},
     "output_type": "execute_result"
    }
   ],
   "source": [
    "df.shape"
   ]
  },
  {
   "cell_type": "markdown",
   "metadata": {},
   "source": [
    "<h3> Extracting Date Time Information from Data </h3>"
   ]
  },
  {
   "cell_type": "code",
   "execution_count": 4,
   "metadata": {},
   "outputs": [],
   "source": [
    "df['Time'] = pd.to_datetime(df['PublishDate']).dt.year #Determining Which Yr the job is posted.\n",
    "# df.Month = df.Month.apply(lambda x : x.strftime('%Y-%m'))\n",
    "# df['Month'] = df['Month'].dt.to_period('Q') # Dividing into 4 Quarter"
   ]
  },
  {
   "cell_type": "markdown",
   "metadata": {},
   "source": [
    "<h3>Choose Desired Sector</h3>"
   ]
  },
  {
   "cell_type": "code",
   "execution_count": 5,
   "metadata": {},
   "outputs": [
    {
     "data": {
      "text/plain": [
       "array(['Garments/ Textile', 'Telecommunication', 'Education',\n",
       "       'NGO/Development', 'Manufacturing (Heavy Industry)',\n",
       "       'Electronics/ Consumer Durables',\n",
       "       'Media (Satellite/ Print/ Online)/ Advertising/ Event Mgt.',\n",
       "       'Bank/ Non-Bank Fin. Institution'], dtype=object)"
      ]
     },
     "execution_count": 5,
     "metadata": {},
     "output_type": "execute_result"
    }
   ],
   "source": [
    "industries = df.IndustryName.value_counts().index[2:10].values  # Choosing Industries to Analysis\n",
    "# df = df[df['IndustryName'].isin(cat)]\n",
    "industries"
   ]
  },
  {
   "cell_type": "markdown",
   "metadata": {},
   "source": [
    "<h3> Correct/Drop Invalid TotalVacancy Value </h3>"
   ]
  },
  {
   "cell_type": "code",
   "execution_count": 113,
   "metadata": {},
   "outputs": [],
   "source": [
    "# df.TotalVacancy.replace({'Multiple':1,'3 (Three)':3,'01 (One)':1,\n",
    "#                               '10 (Chittagong, Sylhet, Comilla, Mymensing & Khuln':10,\n",
    "#                               '5+':5,'15 person clipping expert man urgent':15, '15  (Fresher-10, Others-5)':15,\n",
    "#                               '02 (Female will get advantage)':2, 'Based on requirement.':1,\n",
    "#                              },inplace =True)\n",
    "# df = df[df.TotalVacancy.apply( lambda x:type(x) != datetime.datetime)]\n",
    "# # df = df[df.TotalVacancy.apply( lambda x:type(x) != str)]"
   ]
  },
  {
   "cell_type": "code",
   "execution_count": 8,
   "metadata": {},
   "outputs": [],
   "source": [
    "df.loc[df.JobTitle.str.contains('Software',case=False),'JobTitleRefined'] = 'Software Engineer' #Cleaning SWE\n",
    "df.loc[df.JobTitle.str.contains('Web',case=False),'JobTitleRefined'] = 'Web Developer' #Cleaning WD"
   ]
  },
  {
   "cell_type": "markdown",
   "metadata": {},
   "source": [
    "<h1> April 9 : Hypothesis Testing </h1>"
   ]
  },
  {
   "cell_type": "code",
   "execution_count": 6,
   "metadata": {},
   "outputs": [],
   "source": [
    "def chi_squared_test(df,field,column,prob=0.95):\n",
    "    contigency_table = pd.crosstab(df[field],df[column])\n",
    "    stat,p,dof,expected = stats.chi2_contingency(contigency_table)\n",
    "    critical = stats.chi2.ppf(prob,dof)\n",
    "    contigency_table.plot.bar(stacked=False)\n",
    "    results = []\n",
    "    results.append(field,stat,critical)\n",
    "    results = pd.DataFrame(results,columns=[field,'Value','Critical'])\n",
    "    return results"
   ]
  },
  {
   "cell_type": "markdown",
   "metadata": {},
   "source": [
    "<h1> Analysing Software Engineer </h1>"
   ]
  },
  {
   "cell_type": "code",
   "execution_count": 28,
   "metadata": {},
   "outputs": [],
   "source": [
    "def t_test(df,job,field,exceptions=[],save=False):\n",
    "    results = pd.DataFrame(columns = ['Job','Industry','Time','Statistic','p-value','significant'])\n",
    "    combos = [(2016,2017),(2017,2018),(2016,2018)]\n",
    "    soft_df = df[df.JobTitleRefined == job]\n",
    "    for industry in industries:\n",
    "        for yr1,yr2 in combos:\n",
    "            temp = soft_df[soft_df.IndustryName == industry]\n",
    "            cat1 = temp[temp['Time']==yr1]\n",
    "            cat2 = temp[temp['Time']==yr2]\n",
    "            if industry in exceptions: #Media doesn't have significant amount of data\n",
    "                continue\n",
    "            stat, p = ttest_ind(cat1[field], cat2[field],equal_var=False)\n",
    "            results = results.append({'Job':job,'Industry':industry,\n",
    "                                      'Time':str(yr1) + \"-\" + str(yr2),'Statistic':stat,\n",
    "                                      'p-value':p,'significant': p < 0.1},ignore_index=True)\n",
    "    \n",
    "    temp = results.drop(['Job'],axis=1).pivot(index='Industry',columns='Time')\n",
    "    temp = temp.T.reindex(['2016-2017','2017-2018','2016-2018'],level=1).T #Reording Results yrs\n",
    "    print(temp)\n",
    "    if save:\n",
    "        #Casting Object to float64 for formatting\n",
    "        temp[[('Statistic', '2016-2017'),('Statistic', '2017-2018'),('Statistic', '2016-2018'),\n",
    "             ('p-value', '2016-2017')  ,('p-value', '2017-2018')  ,('p-value', '2016-2018') ] ]\\\n",
    "        =temp[[('Statistic', '2016-2017'),('Statistic', '2017-2018'),('Statistic', '2016-2018'),\n",
    "             ('p-value', '2016-2017')  ,('p-value', '2017-2018')  ,('p-value', '2016-2018') ] ].astype(float) \n",
    "        temp.drop([('Statistic', '2016-2017'),('Statistic', '2017-2018'),('Statistic', '2016-2018')],\n",
    "                  axis=1,inplace=True)\n",
    "        temp.to_csv(f'{TABLE}/{job}_{field}_ttest.csv',index=True,float_format='%.3f')\n",
    "    return temp"
   ]
  },
  {
   "cell_type": "code",
   "execution_count": 29,
   "metadata": {},
   "outputs": [
    {
     "name": "stdout",
     "output_type": "stream",
     "text": [
      "                                                   Statistic            \\\n",
      "Time                                               2016-2017 2017-2018   \n",
      "Industry                                                                 \n",
      "Bank/ Non-Bank Fin. Institution                          NaN       NaN   \n",
      "Education                                                NaN  2.529822   \n",
      "Electronics/ Consumer Durables                           NaN  1.000000   \n",
      "Garments/ Textile                                        NaN  3.162278   \n",
      "Manufacturing (Heavy Industry)                           NaN  1.732051   \n",
      "Media (Satellite/ Print/ Online)/ Advertising/ ...       NaN  2.390457   \n",
      "NGO/Development                                          NaN  2.000000   \n",
      "Telecommunication                                        NaN       NaN   \n",
      "\n",
      "                                                               p-value  \\\n",
      "Time                                               2016-2018 2016-2017   \n",
      "Industry                                                                 \n",
      "Bank/ Non-Bank Fin. Institution                          NaN       NaN   \n",
      "Education                                           2.529822       NaN   \n",
      "Electronics/ Consumer Durables                      1.000000       NaN   \n",
      "Garments/ Textile                                   3.162278       NaN   \n",
      "Manufacturing (Heavy Industry)                      1.732051       NaN   \n",
      "Media (Satellite/ Print/ Online)/ Advertising/ ...  2.390457       NaN   \n",
      "NGO/Development                                     2.000000       NaN   \n",
      "Telecommunication                                        NaN       NaN   \n",
      "\n",
      "                                                                        \\\n",
      "Time                                               2017-2018 2016-2018   \n",
      "Industry                                                                 \n",
      "Bank/ Non-Bank Fin. Institution                          NaN       NaN   \n",
      "Education                                           0.035265  0.035265   \n",
      "Electronics/ Consumer Durables                      0.500000  0.500000   \n",
      "Garments/ Textile                                   0.025031  0.025031   \n",
      "Manufacturing (Heavy Industry)                      0.181690  0.181690   \n",
      "Media (Satellite/ Print/ Online)/ Advertising/ ...  0.037929  0.037929   \n",
      "NGO/Development                                     0.183503  0.183503   \n",
      "Telecommunication                                        NaN       NaN   \n",
      "\n",
      "                                                   significant            \\\n",
      "Time                                                 2016-2017 2017-2018   \n",
      "Industry                                                                   \n",
      "Bank/ Non-Bank Fin. Institution                          False     False   \n",
      "Education                                                False      True   \n",
      "Electronics/ Consumer Durables                           False     False   \n",
      "Garments/ Textile                                        False      True   \n",
      "Manufacturing (Heavy Industry)                           False     False   \n",
      "Media (Satellite/ Print/ Online)/ Advertising/ ...       False      True   \n",
      "NGO/Development                                          False     False   \n",
      "Telecommunication                                        False     False   \n",
      "\n",
      "                                                              \n",
      "Time                                               2016-2018  \n",
      "Industry                                                      \n",
      "Bank/ Non-Bank Fin. Institution                        False  \n",
      "Education                                               True  \n",
      "Electronics/ Consumer Durables                         False  \n",
      "Garments/ Textile                                       True  \n",
      "Manufacturing (Heavy Industry)                         False  \n",
      "Media (Satellite/ Print/ Online)/ Advertising/ ...      True  \n",
      "NGO/Development                                        False  \n",
      "Telecommunication                                      False  \n"
     ]
    },
    {
     "data": {
      "text/html": [
       "<div>\n",
       "<style scoped>\n",
       "    .dataframe tbody tr th:only-of-type {\n",
       "        vertical-align: middle;\n",
       "    }\n",
       "\n",
       "    .dataframe tbody tr th {\n",
       "        vertical-align: top;\n",
       "    }\n",
       "\n",
       "    .dataframe thead tr th {\n",
       "        text-align: left;\n",
       "    }\n",
       "\n",
       "    .dataframe thead tr:last-of-type th {\n",
       "        text-align: right;\n",
       "    }\n",
       "</style>\n",
       "<table border=\"1\" class=\"dataframe\">\n",
       "  <thead>\n",
       "    <tr>\n",
       "      <th></th>\n",
       "      <th colspan=\"3\" halign=\"left\">p-value</th>\n",
       "      <th colspan=\"3\" halign=\"left\">significant</th>\n",
       "    </tr>\n",
       "    <tr>\n",
       "      <th>Time</th>\n",
       "      <th>2016-2017</th>\n",
       "      <th>2017-2018</th>\n",
       "      <th>2016-2018</th>\n",
       "      <th>2016-2017</th>\n",
       "      <th>2017-2018</th>\n",
       "      <th>2016-2018</th>\n",
       "    </tr>\n",
       "    <tr>\n",
       "      <th>Industry</th>\n",
       "      <th></th>\n",
       "      <th></th>\n",
       "      <th></th>\n",
       "      <th></th>\n",
       "      <th></th>\n",
       "      <th></th>\n",
       "    </tr>\n",
       "  </thead>\n",
       "  <tbody>\n",
       "    <tr>\n",
       "      <th>Bank/ Non-Bank Fin. Institution</th>\n",
       "      <td>NaN</td>\n",
       "      <td>NaN</td>\n",
       "      <td>NaN</td>\n",
       "      <td>False</td>\n",
       "      <td>False</td>\n",
       "      <td>False</td>\n",
       "    </tr>\n",
       "    <tr>\n",
       "      <th>Education</th>\n",
       "      <td>NaN</td>\n",
       "      <td>0.035265</td>\n",
       "      <td>0.035265</td>\n",
       "      <td>False</td>\n",
       "      <td>True</td>\n",
       "      <td>True</td>\n",
       "    </tr>\n",
       "    <tr>\n",
       "      <th>Electronics/ Consumer Durables</th>\n",
       "      <td>NaN</td>\n",
       "      <td>0.500000</td>\n",
       "      <td>0.500000</td>\n",
       "      <td>False</td>\n",
       "      <td>False</td>\n",
       "      <td>False</td>\n",
       "    </tr>\n",
       "    <tr>\n",
       "      <th>Garments/ Textile</th>\n",
       "      <td>NaN</td>\n",
       "      <td>0.025031</td>\n",
       "      <td>0.025031</td>\n",
       "      <td>False</td>\n",
       "      <td>True</td>\n",
       "      <td>True</td>\n",
       "    </tr>\n",
       "    <tr>\n",
       "      <th>Manufacturing (Heavy Industry)</th>\n",
       "      <td>NaN</td>\n",
       "      <td>0.181690</td>\n",
       "      <td>0.181690</td>\n",
       "      <td>False</td>\n",
       "      <td>False</td>\n",
       "      <td>False</td>\n",
       "    </tr>\n",
       "    <tr>\n",
       "      <th>Media (Satellite/ Print/ Online)/ Advertising/ Event Mgt.</th>\n",
       "      <td>NaN</td>\n",
       "      <td>0.037929</td>\n",
       "      <td>0.037929</td>\n",
       "      <td>False</td>\n",
       "      <td>True</td>\n",
       "      <td>True</td>\n",
       "    </tr>\n",
       "    <tr>\n",
       "      <th>NGO/Development</th>\n",
       "      <td>NaN</td>\n",
       "      <td>0.183503</td>\n",
       "      <td>0.183503</td>\n",
       "      <td>False</td>\n",
       "      <td>False</td>\n",
       "      <td>False</td>\n",
       "    </tr>\n",
       "    <tr>\n",
       "      <th>Telecommunication</th>\n",
       "      <td>NaN</td>\n",
       "      <td>NaN</td>\n",
       "      <td>NaN</td>\n",
       "      <td>False</td>\n",
       "      <td>False</td>\n",
       "      <td>False</td>\n",
       "    </tr>\n",
       "  </tbody>\n",
       "</table>\n",
       "</div>"
      ],
      "text/plain": [
       "                                                     p-value            \\\n",
       "Time                                               2016-2017 2017-2018   \n",
       "Industry                                                                 \n",
       "Bank/ Non-Bank Fin. Institution                          NaN       NaN   \n",
       "Education                                                NaN  0.035265   \n",
       "Electronics/ Consumer Durables                           NaN  0.500000   \n",
       "Garments/ Textile                                        NaN  0.025031   \n",
       "Manufacturing (Heavy Industry)                           NaN  0.181690   \n",
       "Media (Satellite/ Print/ Online)/ Advertising/ ...       NaN  0.037929   \n",
       "NGO/Development                                          NaN  0.183503   \n",
       "Telecommunication                                        NaN       NaN   \n",
       "\n",
       "                                                             significant  \\\n",
       "Time                                               2016-2018   2016-2017   \n",
       "Industry                                                                   \n",
       "Bank/ Non-Bank Fin. Institution                          NaN       False   \n",
       "Education                                           0.035265       False   \n",
       "Electronics/ Consumer Durables                      0.500000       False   \n",
       "Garments/ Textile                                   0.025031       False   \n",
       "Manufacturing (Heavy Industry)                      0.181690       False   \n",
       "Media (Satellite/ Print/ Online)/ Advertising/ ...  0.037929       False   \n",
       "NGO/Development                                     0.183503       False   \n",
       "Telecommunication                                        NaN       False   \n",
       "\n",
       "                                                                        \n",
       "Time                                               2017-2018 2016-2018  \n",
       "Industry                                                                \n",
       "Bank/ Non-Bank Fin. Institution                        False     False  \n",
       "Education                                               True      True  \n",
       "Electronics/ Consumer Durables                         False     False  \n",
       "Garments/ Textile                                       True      True  \n",
       "Manufacturing (Heavy Industry)                         False     False  \n",
       "Media (Satellite/ Print/ Online)/ Advertising/ ...      True      True  \n",
       "NGO/Development                                        False     False  \n",
       "Telecommunication                                      False     False  "
      ]
     },
     "execution_count": 29,
     "metadata": {},
     "output_type": "execute_result"
    }
   ],
   "source": [
    "temp = t_test(df,job='Web Developer',field = 'MaleGender',save=True,)\n",
    "#       exceptions = ['Media (Satellite/ Print/ Online)/ Advertising/ Event Mgt.'])\n",
    "\n",
    "temp"
   ]
  },
  {
   "cell_type": "code",
   "execution_count": 24,
   "metadata": {},
   "outputs": [],
   "source": [
    "def ttest_plot(df,job,field,save=False):\n",
    "    soft_df = df[df.JobTitleRefined == job]\n",
    "    plot_df = soft_df[soft_df.IndustryName.isin(industries)]\n",
    "    plot_df = plot_df.groupby(['IndustryName','Time'])[field].sum().reset_index()\n",
    "    sns.barplot(x='IndustryName',y=field,hue='Time',data=plot_df)\n",
    "    plt.xticks(rotation=90)\n",
    "    plt.tight_layout()\n",
    "    plt.savefig(f'{GRAPH}/{job}_{field}_ttest.png',dpi=350)"
   ]
  },
  {
   "cell_type": "code",
   "execution_count": 25,
   "metadata": {},
   "outputs": [
    {
     "data": {
      "image/png": "[encoded data removed]",
      "text/plain": [
       "<Figure size 864x864 with 1 Axes>"
      ]
     },
     "metadata": {},
     "output_type": "display_data"
    }
   ],
   "source": [
    "ttest_plot(df,'Web Developer','MaleGender',save=True)"
   ]
  },
  {
   "cell_type": "code",
   "execution_count": 31,
   "metadata": {},
   "outputs": [
    {
     "data": {
      "text/plain": [
       "1    257\n",
       "0     76\n",
       "Name: MaleGender, dtype: int64"
      ]
     },
     "execution_count": 31,
     "metadata": {},
     "output_type": "execute_result"
    }
   ],
   "source": [
    "df[(df['JobTitleRefined'] == 'Web Developer') & (df['Time'] == 2018)].MaleGender.value_counts()"
   ]
  },
  {
   "cell_type": "code",
   "execution_count": null,
   "metadata": {},
   "outputs": [],
   "source": []
  }
 ],
 "metadata": {
  "kernelspec": {
   "display_name": "Python 3",
   "language": "python",
   "name": "python3"
  },
  "language_info": {
   "codemirror_mode": {
    "name": "ipython",
    "version": 3
   },
   "file_extension": ".py",
   "mimetype": "text/x-python",
   "name": "python",
   "nbconvert_exporter": "python",
   "pygments_lexer": "ipython3",
   "version": "3.9.4"
  }
 },
 "nbformat": 4,
 "nbformat_minor": 4
}
